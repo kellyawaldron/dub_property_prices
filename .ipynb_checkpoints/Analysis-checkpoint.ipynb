{
 "cells": [
  {
   "cell_type": "markdown",
   "metadata": {},
   "source": [
    "# Cleaning the dataset\n",
    "\n",
    "### This notebook is to clean the csv containing property listings from Daft.ie"
   ]
  },
  {
   "cell_type": "code",
   "execution_count": 1,
   "metadata": {},
   "outputs": [],
   "source": [
    "import pandas as pd\n",
    "import re"
   ]
  },
  {
   "cell_type": "code",
   "execution_count": 2,
   "metadata": {},
   "outputs": [],
   "source": [
    "from datetime import date\n",
    "\n",
    "today = date.today()\n",
    "year = today.year\n",
    "month = today.month\n",
    "day = today.day\n",
    "\n",
    "df = pd.read_csv(f\"./scrape_output/daft_listings_{year}{month}{day}.csv\")"
   ]
  },
  {
   "cell_type": "code",
   "execution_count": 3,
   "metadata": {},
   "outputs": [],
   "source": [
    "# remove listings for which we don't have a price\n",
    "df.drop(df[df['price'] == \"Price on Application \"].index, inplace = True)"
   ]
  },
  {
   "cell_type": "code",
   "execution_count": 4,
   "metadata": {},
   "outputs": [],
   "source": [
    "df[\"bedrooms\"] = df[\"bedrooms\"].str.replace(\" Bed\", \"\")\n",
    "df[\"bedrooms\"] = df[\"bedrooms\"].astype(int)"
   ]
  },
  {
   "cell_type": "code",
   "execution_count": 5,
   "metadata": {},
   "outputs": [],
   "source": [
    "df[\"bathrooms\"] = df[\"bathrooms\"].str.replace(\" Bath\", \"\")\n",
    "df[\"bathrooms\"] = df[\"bathrooms\"].astype(int)"
   ]
  },
  {
   "cell_type": "code",
   "execution_count": 6,
   "metadata": {},
   "outputs": [],
   "source": [
    "df[\"price\"] = df[\"price\"].str.replace(\"€\", \"\")\n",
    "df[\"price\"] = df[\"price\"].str.replace(\",\", \"\")\n",
    "df[\"price\"] = df[\"price\"].astype(int)\n",
    "\n",
    "# to remove of any entries that start with AMV (advised minimum value)\n",
    "df[\"price\"] = df[\"price\"].str.replace(r\"^AMV:\\s\", \"\")"
   ]
  },
  {
   "cell_type": "code",
   "execution_count": 7,
   "metadata": {},
   "outputs": [
    {
     "data": {
      "text/plain": [
       " Co. Dublin        387\n",
       " Dublin 18         196\n",
       " Dublin 15         189\n",
       " Dublin 6          177\n",
       " Dublin 4          166\n",
       " Dublin 14         165\n",
       " Dublin 9          159\n",
       " Dublin 12         149\n",
       " Dublin 7          144\n",
       " Dublin 3          130\n",
       " Dublin 8          127\n",
       " Dublin 24         114\n",
       " Dublin 16         102\n",
       " Dublin 13         102\n",
       " Dublin 5          101\n",
       " Dublin 11          93\n",
       " Dublin 22          73\n",
       " Dublin 1           59\n",
       " Dublin 2           53\n",
       " Dublin 6W          43\n",
       " Dublin 20          30\n",
       " Dublin 10          24\n",
       " Dublin 17           9\n",
       " Northern Cross      6\n",
       " Belmayne            5\n",
       " Co. Meath           1\n",
       "Name: district, dtype: int64"
      ]
     },
     "execution_count": 7,
     "metadata": {},
     "output_type": "execute_result"
    }
   ],
   "source": [
    "# split address column based on comma\n",
    "df [\"district\"] = df[\"address\"].str.split(\",\").str[-1]\n",
    "\n",
    "df.district.value_counts()"
   ]
  },
  {
   "cell_type": "code",
   "execution_count": 8,
   "metadata": {},
   "outputs": [],
   "source": [
    "df[\"floor_area\"] = df[\"floor_area\"].str.replace(\"m²\", \"\")"
   ]
  },
  {
   "cell_type": "code",
   "execution_count": 9,
   "metadata": {},
   "outputs": [
    {
     "data": {
      "text/html": [
       "<div>\n",
       "<style scoped>\n",
       "    .dataframe tbody tr th:only-of-type {\n",
       "        vertical-align: middle;\n",
       "    }\n",
       "\n",
       "    .dataframe tbody tr th {\n",
       "        vertical-align: top;\n",
       "    }\n",
       "\n",
       "    .dataframe thead th {\n",
       "        text-align: right;\n",
       "    }\n",
       "</style>\n",
       "<table border=\"1\" class=\"dataframe\">\n",
       "  <thead>\n",
       "    <tr style=\"text-align: right;\">\n",
       "      <th></th>\n",
       "      <th>Unnamed: 0</th>\n",
       "      <th>price</th>\n",
       "      <th>address</th>\n",
       "      <th>bedrooms</th>\n",
       "      <th>bathrooms</th>\n",
       "      <th>floor_area</th>\n",
       "      <th>district</th>\n",
       "    </tr>\n",
       "  </thead>\n",
       "  <tbody>\n",
       "    <tr>\n",
       "      <th>2615</th>\n",
       "      <td>2615</td>\n",
       "      <td>495000</td>\n",
       "      <td>96 Beech Grove Cottages, Bray Road, Loughlinst...</td>\n",
       "      <td>4</td>\n",
       "      <td>2</td>\n",
       "      <td>748.73 ac</td>\n",
       "      <td>Co. Dublin</td>\n",
       "    </tr>\n",
       "  </tbody>\n",
       "</table>\n",
       "</div>"
      ],
      "text/plain": [
       "      Unnamed: 0   price                                            address  \\\n",
       "2615        2615  495000  96 Beech Grove Cottages, Bray Road, Loughlinst...   \n",
       "\n",
       "      bedrooms  bathrooms floor_area     district  \n",
       "2615         4          2  748.73 ac   Co. Dublin  "
      ]
     },
     "execution_count": 9,
     "metadata": {},
     "output_type": "execute_result"
    }
   ],
   "source": [
    "df[df[\"floor_area\"].str.contains(\"ac\")==True]\n",
    "#assuming this one is wrong - seems like the value is in metres sq but is labelled incorrectly (from inspecting df / csv)"
   ]
  },
  {
   "cell_type": "code",
   "execution_count": 10,
   "metadata": {},
   "outputs": [],
   "source": [
    "#dropping that row\n",
    "df = df.drop([2615])"
   ]
  },
  {
   "cell_type": "code",
   "execution_count": 11,
   "metadata": {},
   "outputs": [],
   "source": [
    "df[\"floor_area\"] = df[\"floor_area\"].astype(float)"
   ]
  },
  {
   "cell_type": "code",
   "execution_count": 12,
   "metadata": {},
   "outputs": [],
   "source": [
    "df = df.drop([2491])"
   ]
  },
  {
   "cell_type": "code",
   "execution_count": 13,
   "metadata": {},
   "outputs": [],
   "source": [
    "df [\"neighbourhood\"] = df[\"address\"].str.split(\",\").str[-2]"
   ]
  },
  {
   "cell_type": "code",
   "execution_count": 16,
   "metadata": {},
   "outputs": [],
   "source": [
    "# print(subset.neighbourhood.value_counts())\n",
    "\n",
    "# addresses in \"Co. Dublin\" follow the same address pattern ending in TOWN, CO. DUBLIN \n",
    "\n",
    "# identified the most common towns that are in Co. Dublin (identified as towns with > 1 entries)\n",
    "\n",
    "# neighbourhoods that are in Glenageary (A96)\n",
    "glenageary = [\"Glenageary\", \"Dun Laoghaire\", \"Dalkey\", \"Killiney\", \"Sandycove\", \"Ballybrack\", \"Glasthule\", \"Sallynoggin\"]\n",
    "\n",
    "# neighbourhoods that are in Blackrock (A94)\n",
    "blackrock = [\"Blackrock\", \"Booterstown\", \"Stillorgan\", \"Monkstown\", \"Mount Merrion\"]\n",
    "\n",
    "d24 = [\"Citywest\"]\n",
    "\n",
    "d18 = [\"Rathmichael\", \"Loughlinstown\", \"Deans Grange\"]\n",
    "\n",
    "d13 = [\"Howth\", \"Belmayne\"]\n",
    "\n",
    "# I want to see if the column neighbourhood has any of these towns, if so, assign the correct District value (Blackrock / Glenageary)"
   ]
  },
  {
   "cell_type": "code",
   "execution_count": 17,
   "metadata": {},
   "outputs": [],
   "source": [
    "def make_district(text):\n",
    "    if text.strip() in glenageary:\n",
    "        return \"Glenageary\"\n",
    "    elif text.strip() in blackrock:\n",
    "        return \"Blackrock\"\n",
    "    elif text.strip() in d24:\n",
    "        return \"Dublin 24\"\n",
    "    elif text.strip() in d18:\n",
    "        return \"Dublin 18\"\n",
    "    elif text.strip() in d13:\n",
    "        return \"Dublin 13\"\n",
    "    else:\n",
    "        return \"Not found \" + text"
   ]
  },
  {
   "cell_type": "code",
   "execution_count": 18,
   "metadata": {},
   "outputs": [],
   "source": [
    "import numpy as np\n",
    "\n",
    "df['district'] = np.where(df[\"district\"].str.contains(\"Co. Dublin\"), df[\"neighbourhood\"].apply(make_district),df[\"district\"])"
   ]
  },
  {
   "cell_type": "code",
   "execution_count": 29,
   "metadata": {},
   "outputs": [],
   "source": [
    "df[\"district\"] = df[\"district\"].str.replace(\" Belmayne\", \"Dublin 13\")"
   ]
  },
  {
   "cell_type": "code",
   "execution_count": 30,
   "metadata": {},
   "outputs": [],
   "source": [
    "df[\"district\"] = df[\"district\"].str.replace(\" Northern Cross\", \"Dublin 17\")"
   ]
  },
  {
   "cell_type": "code",
   "execution_count": 37,
   "metadata": {},
   "outputs": [],
   "source": [
    "df[\"district\"] = df[\"district\"].str.replace(r\"^\\s\",\"\")"
   ]
  },
  {
   "cell_type": "code",
   "execution_count": 38,
   "metadata": {},
   "outputs": [
    {
     "data": {
      "text/plain": [
       "Dublin 18                         204\n",
       "Dublin 15                         189\n",
       "Glenageary                        180\n",
       "Blackrock                         179\n",
       "Dublin 6                          177\n",
       "Dublin 4                          166\n",
       "Dublin 14                         165\n",
       "Dublin 9                          159\n",
       "Dublin 12                         148\n",
       "Dublin 7                          144\n",
       "Dublin 3                          130\n",
       "Dublin 8                          127\n",
       "Dublin 24                         119\n",
       "Dublin 13                         112\n",
       "Dublin 16                         102\n",
       "Dublin 5                          101\n",
       "Dublin 11                          93\n",
       "Dublin 22                          73\n",
       "Dublin 1                           59\n",
       "Dublin 2                           53\n",
       "Dublin 6W                          43\n",
       "Dublin 20                          30\n",
       "Dublin 10                          24\n",
       "Dublin 17                          15\n",
       "Not found  Cherrywood               1\n",
       "Co. Meath                           1\n",
       "Not found  IFSC                     1\n",
       "Not found  Cabinteely               1\n",
       "Not found  Donnybrook               1\n",
       "Not found  Kilmacud                 1\n",
       "Not found  South Circular Road      1\n",
       "Not found  Clonskeagh               1\n",
       "Not found  Grand Canal Dock         1\n",
       "Not found  Drumcondra               1\n",
       "Name: district, dtype: int64"
      ]
     },
     "execution_count": 38,
     "metadata": {},
     "output_type": "execute_result"
    }
   ],
   "source": [
    "df.district.value_counts()"
   ]
  },
  {
   "cell_type": "code",
   "execution_count": 45,
   "metadata": {},
   "outputs": [],
   "source": [
    "df.drop(df[df['district'].str.contains(\"Not found\")].index, inplace = True)\n",
    "df.drop(df[df['district'].str.contains(\"Co. Meath\")].index, inplace = True)"
   ]
  },
  {
   "cell_type": "code",
   "execution_count": 81,
   "metadata": {},
   "outputs": [],
   "source": [
    "df[\"price_sqm\"] = round(df[\"price\"]/df[\"floor_area\"])"
   ]
  },
  {
   "cell_type": "code",
   "execution_count": 88,
   "metadata": {},
   "outputs": [],
   "source": [
    "df = df.drop(columns=[\"Unnamed: 0\"])"
   ]
  },
  {
   "cell_type": "code",
   "execution_count": 91,
   "metadata": {},
   "outputs": [
    {
     "data": {
      "text/plain": [
       "count     2792.000000\n",
       "mean      5344.926218\n",
       "std       1714.366435\n",
       "min        447.000000\n",
       "25%       4078.250000\n",
       "50%       5122.500000\n",
       "75%       6267.000000\n",
       "max      17143.000000\n",
       "Name: price_sqm, dtype: float64"
      ]
     },
     "execution_count": 91,
     "metadata": {},
     "output_type": "execute_result"
    }
   ],
   "source": [
    "df.price_sqm.describe()"
   ]
  },
  {
   "cell_type": "code",
   "execution_count": 89,
   "metadata": {},
   "outputs": [],
   "source": [
    "df.to_csv(f\"./analysis_output/clean_output_{year}{month}{day}.csv\")"
   ]
  },
  {
   "cell_type": "code",
   "execution_count": null,
   "metadata": {},
   "outputs": [],
   "source": []
  }
 ],
 "metadata": {
  "kernelspec": {
   "display_name": "Python 3",
   "language": "python",
   "name": "python3"
  },
  "language_info": {
   "codemirror_mode": {
    "name": "ipython",
    "version": 3
   },
   "file_extension": ".py",
   "mimetype": "text/x-python",
   "name": "python",
   "nbconvert_exporter": "python",
   "pygments_lexer": "ipython3",
   "version": "3.8.3"
  }
 },
 "nbformat": 4,
 "nbformat_minor": 4
}
