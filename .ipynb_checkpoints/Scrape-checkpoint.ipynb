{
 "cells": [
  {
   "cell_type": "markdown",
   "metadata": {},
   "source": [
    "# Scraping property listings \n",
    "\n",
    "### This notebook is to scrape all the listings for properties for sale on Daft.ie "
   ]
  },
  {
   "cell_type": "code",
   "execution_count": 1,
   "metadata": {},
   "outputs": [],
   "source": [
    "from playwright.async_api import async_playwright"
   ]
  },
  {
   "cell_type": "code",
   "execution_count": 2,
   "metadata": {},
   "outputs": [],
   "source": [
    "playwright = await async_playwright().start()"
   ]
  },
  {
   "cell_type": "code",
   "execution_count": 3,
   "metadata": {},
   "outputs": [],
   "source": [
    "browser = await playwright.chromium.launch(headless = False)"
   ]
  },
  {
   "cell_type": "code",
   "execution_count": 4,
   "metadata": {},
   "outputs": [],
   "source": [
    "page = await browser.new_page()"
   ]
  },
  {
   "cell_type": "code",
   "execution_count": 5,
   "metadata": {},
   "outputs": [
    {
     "data": {
      "text/plain": [
       "<Response url='https://www.daft.ie/' request=<Request url='https://www.daft.ie/' method='GET'>>"
      ]
     },
     "execution_count": 5,
     "metadata": {},
     "output_type": "execute_result"
    }
   ],
   "source": [
    "await page.goto(\"https://www.daft.ie/\")"
   ]
  },
  {
   "cell_type": "code",
   "execution_count": 6,
   "metadata": {},
   "outputs": [],
   "source": [
    "# press accept on that message\n",
    "try: \n",
    "    await page.click(\"xpath=/html/body/div[1]/div/div/main/div/button[2]\", timeout=1000)\n",
    "except:\n",
    "    pass"
   ]
  },
  {
   "cell_type": "code",
   "execution_count": 7,
   "metadata": {},
   "outputs": [
    {
     "data": {
      "text/plain": [
       "<Response url='https://www.daft.ie/property-for-sale/dublin-city' request=<Request url='https://www.daft.ie/property-for-sale/dublin-city' method='GET'>>"
      ]
     },
     "execution_count": 7,
     "metadata": {},
     "output_type": "execute_result"
    }
   ],
   "source": [
    "await page.goto(\"https://www.daft.ie/property-for-sale/dublin-city\")"
   ]
  },
  {
   "cell_type": "code",
   "execution_count": 8,
   "metadata": {},
   "outputs": [],
   "source": [
    "# close another pop up that sometimes comes up \n",
    "try:\n",
    "    await page.click(\"xpath=/html/body/div[5]/div/div/div/div/button/span\", timeout=1000)\n",
    "except: \n",
    "    pass"
   ]
  },
  {
   "cell_type": "code",
   "execution_count": 9,
   "metadata": {},
   "outputs": [],
   "source": [
    "# close another pop up that sometimes comes up \n",
    "try: \n",
    "    await page.click(\"xpath=//html/body/div[5]/div/div/div[1]/button\", timeout=1000)\n",
    "except:\n",
    "    pass"
   ]
  },
  {
   "cell_type": "code",
   "execution_count": 10,
   "metadata": {},
   "outputs": [],
   "source": [
    "import pandas as pd\n"
   ]
  },
  {
   "cell_type": "code",
   "execution_count": 11,
   "metadata": {},
   "outputs": [],
   "source": [
    "from bs4 import BeautifulSoup"
   ]
  },
  {
   "cell_type": "code",
   "execution_count": 12,
   "metadata": {},
   "outputs": [],
   "source": [
    "html = await page.content()\n",
    "doc = BeautifulSoup(html)"
   ]
  },
  {
   "cell_type": "code",
   "execution_count": 13,
   "metadata": {},
   "outputs": [
    {
     "data": {
      "text/plain": [
       "[<div class=\"Cardstyled__TitleBlockWrapper-nngi4q-4 eMeJos\"><div data-testid=\"title-block\"><div class=\"TitleBlock__Price-sc-1avkvav-4 hiFkJc\" data-testid=\"price\"><span class=\"TitleBlock__StyledSpan-sc-1avkvav-5 fKAzIL\">€3,000,000<!-- --> </span></div><p class=\"TitleBlock__Address-sc-1avkvav-8 dzihyY\" data-testid=\"address\">7 Henrietta Street, Dublin 1</p><div class=\"TitleBlock__CardInfo-sc-1avkvav-10 iCjViR\" data-testid=\"card-info\"><p class=\"TitleBlock__CardInfoItem-sc-1avkvav-9 iLMdur\" data-testid=\"beds\">6 Bed</p><p class=\"TitleBlock__CardInfoItem-sc-1avkvav-9 iLMdur\" data-testid=\"baths\">7 Bath</p><p class=\"TitleBlock__CardInfoItem-sc-1avkvav-9 iLMdur\" data-testid=\"floor-area\">763 m²</p><p class=\"TitleBlock__CardInfoItem-sc-1avkvav-9 cKZZql\" data-testid=\"property-type\">Terrace</p><div class=\"TitleBlock__BerContainer-sc-1avkvav-11 iXTpuT\"><img alt=\"\" class=\"TitleBlock__Ber-sc-1avkvav-7 iDkita\" data-testid=\"ber-image\" src=\"https://hermes.daft.ie/dsch-daft-frontend/1.0.1670857707/static/images/ber/SI_666.svg\"/></div></div><div class=\"TitleBlock__CardExtraInfo-sc-1avkvav-3 iZAQwx\" data-testid=\"callout-container\"><span class=\"TitleBlock__AgentNameTextWrapper-sc-1avkvav-2 izFGQg\" data-testid=\"agent-name\">MoveHome Estate &amp; Letting Agent</span></div></div></div>,\n",
       " <div class=\"Cardstyled__TitleBlockWrapper-nngi4q-4 eMeJos\"><div data-testid=\"title-block\"><div class=\"TitleBlock__Price-sc-1avkvav-4 hiFkJc\" data-testid=\"price\"><span class=\"TitleBlock__StyledSpan-sc-1avkvav-5 fKAzIL\">€10,000,000<!-- --> </span></div><p class=\"TitleBlock__Address-sc-1avkvav-8 dzihyY\" data-testid=\"address\">Drumleck House, Ceanchor Road, Howth, Dublin 13</p><div class=\"TitleBlock__CardInfo-sc-1avkvav-10 iCjViR\" data-testid=\"card-info\"><p class=\"TitleBlock__CardInfoItem-sc-1avkvav-9 iLMdur\" data-testid=\"beds\">5 Bed</p><p class=\"TitleBlock__CardInfoItem-sc-1avkvav-9 iLMdur\" data-testid=\"baths\">5 Bath</p><p class=\"TitleBlock__CardInfoItem-sc-1avkvav-9 iLMdur\" data-testid=\"floor-area\">781 m²</p><p class=\"TitleBlock__CardInfoItem-sc-1avkvav-9 cKZZql\" data-testid=\"property-type\">Detached</p><div class=\"TitleBlock__BerContainer-sc-1avkvav-11 iXTpuT\"><img alt=\"\" class=\"TitleBlock__Ber-sc-1avkvav-7 iDkita\" data-testid=\"ber-image\" src=\"https://hermes.daft.ie/dsch-daft-frontend/1.0.1670857707/static/images/fallbacks/BerPlaceholder.png\"/></div></div><div class=\"TitleBlock__CardExtraInfo-sc-1avkvav-3 iZAQwx\" data-testid=\"callout-container\"><span class=\"TitleBlock__AgentNameTextWrapper-sc-1avkvav-2 izFGQg\" data-testid=\"agent-name\">Gallagher Quigley</span></div></div></div>,\n",
       " <div class=\"Cardstyled__TitleBlockWrapper-nngi4q-4 eMeJos\"><div data-testid=\"title-block\"><div class=\"TitleBlock__Price-sc-1avkvav-4 hiFkJc\" data-testid=\"price\"><span class=\"TitleBlock__StyledSpan-sc-1avkvav-5 fKAzIL\">€875,000<!-- --> </span></div><p class=\"TitleBlock__Address-sc-1avkvav-8 dzihyY\" data-testid=\"address\">13 Inverness Road, Fairview, Fairview, Dublin 3</p><div class=\"TitleBlock__CardInfo-sc-1avkvav-10 iCjViR\" data-testid=\"card-info\"><p class=\"TitleBlock__CardInfoItem-sc-1avkvav-9 iLMdur\" data-testid=\"beds\">4 Bed</p><p class=\"TitleBlock__CardInfoItem-sc-1avkvav-9 iLMdur\" data-testid=\"baths\">3 Bath</p><p class=\"TitleBlock__CardInfoItem-sc-1avkvav-9 iLMdur\" data-testid=\"floor-area\">200 m²</p><p class=\"TitleBlock__CardInfoItem-sc-1avkvav-9 cKZZql\" data-testid=\"property-type\">Terrace</p><div class=\"TitleBlock__BerContainer-sc-1avkvav-11 iXTpuT\"><img alt=\"\" class=\"TitleBlock__Ber-sc-1avkvav-7 iDkita\" data-testid=\"ber-image\" src=\"https://hermes.daft.ie/dsch-daft-frontend/1.0.1670857707/static/images/fallbacks/BerPlaceholder.png\"/></div></div><div class=\"TitleBlock__CardExtraInfo-sc-1avkvav-3 iZAQwx\" data-testid=\"callout-container\"><span class=\"TitleBlock__AgentNameTextWrapper-sc-1avkvav-2 izFGQg\" data-testid=\"agent-name\">MoveHome Estate &amp; Letting Agent</span></div></div></div>,\n",
       " <div class=\"Cardstyled__TitleBlockWrapper-nngi4q-4 eMeJos\"><div data-testid=\"title-block\"><div class=\"TitleBlock__Price-sc-1avkvav-4 hiFkJc\" data-testid=\"price\"><span class=\"TitleBlock__StyledSpan-sc-1avkvav-5 fKAzIL\">€895,000<!-- --> </span></div><p class=\"TitleBlock__Address-sc-1avkvav-8 dzihyY\" data-testid=\"address\">3 Ballymun Road, Glasnevin, Dublin 9</p><div class=\"TitleBlock__CardInfo-sc-1avkvav-10 iCjViR\" data-testid=\"card-info\"><p class=\"TitleBlock__CardInfoItem-sc-1avkvav-9 iLMdur\" data-testid=\"beds\">4 Bed</p><p class=\"TitleBlock__CardInfoItem-sc-1avkvav-9 iLMdur\" data-testid=\"baths\">2 Bath</p><p class=\"TitleBlock__CardInfoItem-sc-1avkvav-9 iLMdur\" data-testid=\"floor-area\">152 m²</p><p class=\"TitleBlock__CardInfoItem-sc-1avkvav-9 cKZZql\" data-testid=\"property-type\">Detached</p><div class=\"TitleBlock__BerContainer-sc-1avkvav-11 iXTpuT\"><img alt=\"\" class=\"TitleBlock__Ber-sc-1avkvav-7 iDkita\" data-testid=\"ber-image\" src=\"https://hermes.daft.ie/dsch-daft-frontend/1.0.1670857707/static/images/fallbacks/BerPlaceholder.png\"/></div></div><div class=\"TitleBlock__CardExtraInfo-sc-1avkvav-3 iZAQwx\" data-testid=\"callout-container\"><span class=\"TitleBlock__AgentNameTextWrapper-sc-1avkvav-2 izFGQg\" data-testid=\"agent-name\">MoveHome Estate &amp; Letting Agent</span></div></div></div>,\n",
       " <div class=\"Cardstyled__TitleBlockWrapper-nngi4q-4 eMeJos\"><div data-testid=\"title-block\"><div class=\"TitleBlock__Price-sc-1avkvav-4 hiFkJc\" data-testid=\"price\"><span class=\"TitleBlock__StyledSpan-sc-1avkvav-5 fKAzIL\">€245,000<!-- --> </span></div><p class=\"TitleBlock__Address-sc-1avkvav-8 dzihyY\" data-testid=\"address\">4 Newlands Manor Drive, Clondalkin, Clondalkin, Dublin 22</p><div class=\"TitleBlock__CardInfo-sc-1avkvav-10 iCjViR\" data-testid=\"card-info\"><p class=\"TitleBlock__CardInfoItem-sc-1avkvav-9 iLMdur\" data-testid=\"beds\">2 Bed</p><p class=\"TitleBlock__CardInfoItem-sc-1avkvav-9 iLMdur\" data-testid=\"baths\">2 Bath</p><p class=\"TitleBlock__CardInfoItem-sc-1avkvav-9 iLMdur\" data-testid=\"floor-area\">60 m²</p><p class=\"TitleBlock__CardInfoItem-sc-1avkvav-9 cKZZql\" data-testid=\"property-type\">Apartment</p><div class=\"TitleBlock__BerContainer-sc-1avkvav-11 iXTpuT\"><img alt=\"\" class=\"TitleBlock__Ber-sc-1avkvav-7 iDkita\" data-testid=\"ber-image\" src=\"https://hermes.daft.ie/dsch-daft-frontend/1.0.1670857707/static/images/fallbacks/BerPlaceholder.png\"/></div></div><div class=\"TitleBlock__CardExtraInfo-sc-1avkvav-3 iZAQwx\" data-testid=\"callout-container\"><span class=\"TitleBlock__AgentNameTextWrapper-sc-1avkvav-2 izFGQg\" data-testid=\"agent-name\">Hibernian Auctioneers</span></div></div></div>,\n",
       " <div class=\"Cardstyled__TitleBlockWrapper-nngi4q-4 eMeJos\"><div data-testid=\"title-block\"><div class=\"TitleBlock__Price-sc-1avkvav-4 hiFkJc\" data-testid=\"price\"><span class=\"TitleBlock__StyledSpan-sc-1avkvav-5 fKAzIL\">€410,000<!-- --> </span></div><p class=\"TitleBlock__Address-sc-1avkvav-8 dzihyY\" data-testid=\"address\">93 Muckross Avenue, Perrystown, Perrystown, Dublin 12</p><div class=\"TitleBlock__CardInfo-sc-1avkvav-10 iCjViR\" data-testid=\"card-info\"><p class=\"TitleBlock__CardInfoItem-sc-1avkvav-9 iLMdur\" data-testid=\"beds\">3 Bed</p><p class=\"TitleBlock__CardInfoItem-sc-1avkvav-9 iLMdur\" data-testid=\"baths\">1 Bath</p><p class=\"TitleBlock__CardInfoItem-sc-1avkvav-9 iLMdur\" data-testid=\"floor-area\">94 m²</p><p class=\"TitleBlock__CardInfoItem-sc-1avkvav-9 cKZZql\" data-testid=\"property-type\">Terrace</p><div class=\"TitleBlock__BerContainer-sc-1avkvav-11 iXTpuT\"><img alt=\"\" class=\"TitleBlock__Ber-sc-1avkvav-7 iDkita\" data-testid=\"ber-image\" src=\"https://hermes.daft.ie/dsch-daft-frontend/1.0.1670857707/static/images/fallbacks/BerPlaceholder.png\"/></div></div><div class=\"TitleBlock__CardExtraInfo-sc-1avkvav-3 iZAQwx\" data-testid=\"callout-container\"><span class=\"TitleBlock__TextWrapper-sc-1avkvav-0 hzldvs\" data-testid=\"open-viewing\">Open Viewing</span><span class=\"TitleBlock__AgentNameTextWrapper-sc-1avkvav-2 izFGQg\" data-testid=\"agent-name\">Bergins Property Consultants</span></div></div></div>,\n",
       " <div class=\"Cardstyled__TitleBlockWrapper-nngi4q-4 eMeJos\"><div data-testid=\"title-block\"><div class=\"TitleBlock__Price-sc-1avkvav-4 hiFkJc\" data-testid=\"price\"><span class=\"TitleBlock__StyledSpan-sc-1avkvav-5 fKAzIL\">€650,000<!-- --> </span></div><p class=\"TitleBlock__Address-sc-1avkvav-8 dzihyY\" data-testid=\"address\">31 Eden Court, Rathfarnham, Dublin 16</p><div class=\"TitleBlock__CardInfo-sc-1avkvav-10 iCjViR\" data-testid=\"card-info\"><p class=\"TitleBlock__CardInfoItem-sc-1avkvav-9 iLMdur\" data-testid=\"beds\">4 Bed</p><p class=\"TitleBlock__CardInfoItem-sc-1avkvav-9 iLMdur\" data-testid=\"baths\">3 Bath</p><p class=\"TitleBlock__CardInfoItem-sc-1avkvav-9 cKZZql\" data-testid=\"property-type\">End of Terrace</p><div class=\"TitleBlock__BerContainer-sc-1avkvav-11 iXTpuT\"><img alt=\"\" class=\"TitleBlock__Ber-sc-1avkvav-7 iDkita\" data-testid=\"ber-image\" src=\"https://hermes.daft.ie/dsch-daft-frontend/1.0.1670857707/static/images/fallbacks/BerPlaceholder.png\"/></div></div><div class=\"TitleBlock__CardExtraInfo-sc-1avkvav-3 iZAQwx\" data-testid=\"callout-container\"><span class=\"TitleBlock__AgentNameTextWrapper-sc-1avkvav-2 izFGQg\" data-testid=\"agent-name\">Ed Dempsey</span></div></div></div>,\n",
       " <div class=\"Cardstyled__TitleBlockWrapper-nngi4q-4 eMeJos\"><div data-testid=\"title-block\"><div class=\"TitleBlock__Price-sc-1avkvav-4 hiFkJc\" data-testid=\"price\"><span class=\"TitleBlock__StyledSpan-sc-1avkvav-5 fKAzIL\">€875,000<!-- --> </span></div><p class=\"TitleBlock__Address-sc-1avkvav-8 dzihyY\" data-testid=\"address\">Filmar, 2 Wansdowne, Blackrock, Co. Dublin</p><div class=\"TitleBlock__CardInfo-sc-1avkvav-10 iCjViR\" data-testid=\"card-info\"><p class=\"TitleBlock__CardInfoItem-sc-1avkvav-9 iLMdur\" data-testid=\"beds\">4 Bed</p><p class=\"TitleBlock__CardInfoItem-sc-1avkvav-9 iLMdur\" data-testid=\"baths\">2 Bath</p><p class=\"TitleBlock__CardInfoItem-sc-1avkvav-9 iLMdur\" data-testid=\"floor-area\">154 m²</p><p class=\"TitleBlock__CardInfoItem-sc-1avkvav-9 cKZZql\" data-testid=\"property-type\">Detached</p><div class=\"TitleBlock__BerContainer-sc-1avkvav-11 iXTpuT\"><img alt=\"\" class=\"TitleBlock__Ber-sc-1avkvav-7 iDkita\" data-testid=\"ber-image\" src=\"https://hermes.daft.ie/dsch-daft-frontend/1.0.1670857707/static/images/fallbacks/BerPlaceholder.png\"/></div></div><div class=\"TitleBlock__CardExtraInfo-sc-1avkvav-3 iZAQwx\" data-testid=\"callout-container\"><span class=\"TitleBlock__AgentNameTextWrapper-sc-1avkvav-2 izFGQg\" data-testid=\"agent-name\">Janet Carroll Estate Agent</span></div></div></div>,\n",
       " <div class=\"Cardstyled__TitleBlockWrapper-nngi4q-4 eMeJos\"><div data-testid=\"title-block\"><div class=\"TitleBlock__Price-sc-1avkvav-4 hiFkJc\" data-testid=\"price\"><span class=\"TitleBlock__StyledSpan-sc-1avkvav-5 fKAzIL\">€975,000<!-- --> </span></div><p class=\"TitleBlock__Address-sc-1avkvav-8 dzihyY\" data-testid=\"address\">7 Oxford Road, Ranelagh, Ranelagh, Dublin 6</p><div class=\"TitleBlock__CardInfo-sc-1avkvav-10 iCjViR\" data-testid=\"card-info\"><p class=\"TitleBlock__CardInfoItem-sc-1avkvav-9 iLMdur\" data-testid=\"beds\">6 Bed</p><p class=\"TitleBlock__CardInfoItem-sc-1avkvav-9 iLMdur\" data-testid=\"baths\">6 Bath</p><p class=\"TitleBlock__CardInfoItem-sc-1avkvav-9 iLMdur\" data-testid=\"floor-area\">221 m²</p><p class=\"TitleBlock__CardInfoItem-sc-1avkvav-9 cKZZql\" data-testid=\"property-type\">End of Terrace</p><div class=\"TitleBlock__BerContainer-sc-1avkvav-11 iXTpuT\"><img alt=\"\" class=\"TitleBlock__Ber-sc-1avkvav-7 iDkita\" data-testid=\"ber-image\" src=\"https://hermes.daft.ie/dsch-daft-frontend/1.0.1670857707/static/images/fallbacks/BerPlaceholder.png\"/></div></div><div class=\"TitleBlock__CardExtraInfo-sc-1avkvav-3 iZAQwx\" data-testid=\"callout-container\"><span class=\"TitleBlock__TextWrapper-sc-1avkvav-0 hzldvs\" data-testid=\"virtual-tour\">Virtual Tour</span><span class=\"TitleBlock__AgentNameTextWrapper-sc-1avkvav-2 izFGQg\" data-testid=\"agent-name\">Bracken Estates</span></div></div></div>,\n",
       " <div class=\"Cardstyled__TitleBlockWrapper-nngi4q-4 eMeJos\"><div data-testid=\"title-block\"><div class=\"TitleBlock__Price-sc-1avkvav-4 hiFkJc\" data-testid=\"price\"><span class=\"TitleBlock__StyledSpan-sc-1avkvav-5 fKAzIL\">€575,000<!-- --> </span></div><p class=\"TitleBlock__Address-sc-1avkvav-8 dzihyY\" data-testid=\"address\">1 Newtown Clarke Cottage, Old Lucan Road, Palmerstown, Dublin 20</p><div class=\"TitleBlock__CardInfo-sc-1avkvav-10 iCjViR\" data-testid=\"card-info\"><p class=\"TitleBlock__CardInfoItem-sc-1avkvav-9 iLMdur\" data-testid=\"beds\">3 Bed</p><p class=\"TitleBlock__CardInfoItem-sc-1avkvav-9 iLMdur\" data-testid=\"baths\">1 Bath</p><p class=\"TitleBlock__CardInfoItem-sc-1avkvav-9 iLMdur\" data-testid=\"floor-area\">105 m²</p><p class=\"TitleBlock__CardInfoItem-sc-1avkvav-9 cKZZql\" data-testid=\"property-type\">Bungalow</p><div class=\"TitleBlock__BerContainer-sc-1avkvav-11 iXTpuT\"><img alt=\"\" class=\"TitleBlock__Ber-sc-1avkvav-7 iDkita\" data-testid=\"ber-image\" src=\"https://hermes.daft.ie/dsch-daft-frontend/1.0.1670857707/static/images/fallbacks/BerPlaceholder.png\"/></div></div><div class=\"TitleBlock__CardExtraInfo-sc-1avkvav-3 iZAQwx\" data-testid=\"callout-container\"><span class=\"TitleBlock__AgentNameTextWrapper-sc-1avkvav-2 izFGQg\" data-testid=\"agent-name\">REA McDonald</span></div></div></div>,\n",
       " <div class=\"Cardstyled__TitleBlockWrapper-nngi4q-4 eMeJos\"><div data-testid=\"title-block\"><div class=\"TitleBlock__Price-sc-1avkvav-4 hiFkJc\" data-testid=\"price\"><span class=\"TitleBlock__StyledSpan-sc-1avkvav-5 fKAzIL\">€460,000<!-- --> </span></div><p class=\"TitleBlock__Address-sc-1avkvav-8 dzihyY\" data-testid=\"address\">48 Alderwood, Hollystown, Hollystown, Dublin 15</p><div class=\"TitleBlock__CardInfo-sc-1avkvav-10 iCjViR\" data-testid=\"card-info\"><p class=\"TitleBlock__CardInfoItem-sc-1avkvav-9 iLMdur\" data-testid=\"beds\">4 Bed</p><p class=\"TitleBlock__CardInfoItem-sc-1avkvav-9 iLMdur\" data-testid=\"baths\">4 Bath</p><p class=\"TitleBlock__CardInfoItem-sc-1avkvav-9 iLMdur\" data-testid=\"floor-area\">148 m²</p><p class=\"TitleBlock__CardInfoItem-sc-1avkvav-9 cKZZql\" data-testid=\"property-type\">Semi-D</p><div class=\"TitleBlock__BerContainer-sc-1avkvav-11 iXTpuT\"><img alt=\"\" class=\"TitleBlock__Ber-sc-1avkvav-7 iDkita\" data-testid=\"ber-image\" src=\"https://hermes.daft.ie/dsch-daft-frontend/1.0.1670857707/static/images/fallbacks/BerPlaceholder.png\"/></div></div><div class=\"TitleBlock__CardExtraInfo-sc-1avkvav-3 iZAQwx\" data-testid=\"callout-container\"><span class=\"TitleBlock__AgentNameTextWrapper-sc-1avkvav-2 izFGQg\" data-testid=\"agent-name\">McPeake Auctioneers</span></div></div></div>,\n",
       " <div class=\"Cardstyled__TitleBlockWrapper-nngi4q-4 eMeJos\"><div data-testid=\"title-block\"><div class=\"TitleBlock__Price-sc-1avkvav-4 hiFkJc\" data-testid=\"price\"><span class=\"TitleBlock__StyledSpan-sc-1avkvav-5 fKAzIL\">€550,000<!-- --> </span></div><p class=\"TitleBlock__Address-sc-1avkvav-8 dzihyY\" data-testid=\"address\">5 Cedar Cottages, Linden Grove, Blackrock, Co. Dublin</p><div class=\"TitleBlock__CardInfo-sc-1avkvav-10 iCjViR\" data-testid=\"card-info\"><p class=\"TitleBlock__CardInfoItem-sc-1avkvav-9 iLMdur\" data-testid=\"beds\">2 Bed</p><p class=\"TitleBlock__CardInfoItem-sc-1avkvav-9 iLMdur\" data-testid=\"baths\">1 Bath</p><p class=\"TitleBlock__CardInfoItem-sc-1avkvav-9 iLMdur\" data-testid=\"floor-area\">72 m²</p><p class=\"TitleBlock__CardInfoItem-sc-1avkvav-9 cKZZql\" data-testid=\"property-type\">End of Terrace</p><div class=\"TitleBlock__BerContainer-sc-1avkvav-11 iXTpuT\"><img alt=\"\" class=\"TitleBlock__Ber-sc-1avkvav-7 iDkita\" data-testid=\"ber-image\" src=\"https://hermes.daft.ie/dsch-daft-frontend/1.0.1670857707/static/images/fallbacks/BerPlaceholder.png\"/></div></div><div class=\"TitleBlock__CardExtraInfo-sc-1avkvav-3 iZAQwx\" data-testid=\"callout-container\"><span class=\"TitleBlock__AgentNameTextWrapper-sc-1avkvav-2 izFGQg\" data-testid=\"agent-name\">Janet Carroll Estate Agent</span></div></div></div>,\n",
       " <div class=\"Cardstyled__TitleBlockWrapper-nngi4q-4 eMeJos\"><div data-testid=\"title-block\"><div class=\"TitleBlock__Price-sc-1avkvav-4 hiFkJc\" data-testid=\"price\"><span class=\"TitleBlock__StyledSpan-sc-1avkvav-5 fKAzIL\">€925,000<!-- --> </span></div><p class=\"TitleBlock__Address-sc-1avkvav-8 dzihyY\" data-testid=\"address\">5 Stepaside Park, Stepaside, Dublin 18</p><div class=\"TitleBlock__CardInfo-sc-1avkvav-10 iCjViR\" data-testid=\"card-info\"><p class=\"TitleBlock__CardInfoItem-sc-1avkvav-9 iLMdur\" data-testid=\"beds\">5 Bed</p><p class=\"TitleBlock__CardInfoItem-sc-1avkvav-9 iLMdur\" data-testid=\"baths\">3 Bath</p><p class=\"TitleBlock__CardInfoItem-sc-1avkvav-9 cKZZql\" data-testid=\"property-type\">Detached</p><div class=\"TitleBlock__BerContainer-sc-1avkvav-11 iXTpuT\"><img alt=\"\" class=\"TitleBlock__Ber-sc-1avkvav-7 iDkita\" data-testid=\"ber-image\" src=\"https://hermes.daft.ie/dsch-daft-frontend/1.0.1670857707/static/images/fallbacks/BerPlaceholder.png\"/></div></div><div class=\"TitleBlock__CardExtraInfo-sc-1avkvav-3 iZAQwx\" data-testid=\"callout-container\"><span class=\"TitleBlock__AgentNameTextWrapper-sc-1avkvav-2 izFGQg\" data-testid=\"agent-name\">Ed Dempsey</span></div></div></div>,\n",
       " <div class=\"Cardstyled__TitleBlockWrapper-nngi4q-4 eMeJos\"><div data-testid=\"title-block\"><div class=\"TitleBlock__Price-sc-1avkvav-4 hiFkJc\" data-testid=\"price\"><span class=\"TitleBlock__StyledSpan-sc-1avkvav-5 fKAzIL\">€995,000<!-- --> </span></div><p class=\"TitleBlock__Address-sc-1avkvav-8 dzihyY\" data-testid=\"address\">28 Leeson Park Avenue, Ranelagh, Ranelagh, Dublin 6</p><div class=\"TitleBlock__CardInfo-sc-1avkvav-10 iCjViR\" data-testid=\"card-info\"><p class=\"TitleBlock__CardInfoItem-sc-1avkvav-9 iLMdur\" data-testid=\"beds\">2 Bed</p><p class=\"TitleBlock__CardInfoItem-sc-1avkvav-9 iLMdur\" data-testid=\"baths\">2 Bath</p><p class=\"TitleBlock__CardInfoItem-sc-1avkvav-9 iLMdur\" data-testid=\"floor-area\">143 m²</p><p class=\"TitleBlock__CardInfoItem-sc-1avkvav-9 cKZZql\" data-testid=\"property-type\">Terrace</p><div class=\"TitleBlock__BerContainer-sc-1avkvav-11 iXTpuT\"><img alt=\"\" class=\"TitleBlock__Ber-sc-1avkvav-7 iDkita\" data-testid=\"ber-image\" src=\"https://hermes.daft.ie/dsch-daft-frontend/1.0.1670857707/static/images/fallbacks/BerPlaceholder.png\"/></div></div><div class=\"TitleBlock__CardExtraInfo-sc-1avkvav-3 iZAQwx\" data-testid=\"callout-container\"><span class=\"TitleBlock__AgentNameTextWrapper-sc-1avkvav-2 izFGQg\" data-testid=\"agent-name\">Bergins Property Consultants</span></div></div></div>,\n",
       " <div class=\"Cardstyled__TitleBlockWrapper-nngi4q-4 eMeJos\"><div data-testid=\"title-block\"><div class=\"TitleBlock__Price-sc-1avkvav-4 hiFkJc\" data-testid=\"price\"><span class=\"TitleBlock__StyledSpan-sc-1avkvav-5 fKAzIL\">€1,475,000<!-- --> </span></div><p class=\"TitleBlock__Address-sc-1avkvav-8 dzihyY\" data-testid=\"address\">Fern House, 126, Ranelagh, Dublin 6</p><div class=\"TitleBlock__CardInfo-sc-1avkvav-10 iCjViR\" data-testid=\"card-info\"><p class=\"TitleBlock__CardInfoItem-sc-1avkvav-9 iLMdur\" data-testid=\"beds\">5 Bed</p><p class=\"TitleBlock__CardInfoItem-sc-1avkvav-9 iLMdur\" data-testid=\"baths\">2 Bath</p><p class=\"TitleBlock__CardInfoItem-sc-1avkvav-9 iLMdur\" data-testid=\"floor-area\">265 m²</p><p class=\"TitleBlock__CardInfoItem-sc-1avkvav-9 cKZZql\" data-testid=\"property-type\">Terrace</p><div class=\"TitleBlock__BerContainer-sc-1avkvav-11 iXTpuT\"><img alt=\"\" class=\"TitleBlock__Ber-sc-1avkvav-7 iDkita\" data-testid=\"ber-image\" src=\"https://hermes.daft.ie/dsch-daft-frontend/1.0.1670857707/static/images/fallbacks/BerPlaceholder.png\"/></div></div><div class=\"TitleBlock__CardExtraInfo-sc-1avkvav-3 iZAQwx\" data-testid=\"callout-container\"><span class=\"TitleBlock__AgentNameTextWrapper-sc-1avkvav-2 izFGQg\" data-testid=\"agent-name\">Sherry FitzGerald Ranelagh</span></div></div></div>,\n",
       " <div class=\"Cardstyled__TitleBlockWrapper-nngi4q-4 eMeJos\"><div data-testid=\"title-block\"><div class=\"TitleBlock__Price-sc-1avkvav-4 hiFkJc\" data-testid=\"price\"><span class=\"TitleBlock__StyledSpan-sc-1avkvav-5 fKAzIL\">€545,000<!-- --> </span></div><p class=\"TitleBlock__Address-sc-1avkvav-8 dzihyY\" data-testid=\"address\">17 O'Donovan Road, South Circular Road, South Circular Road, Dublin 8</p><div class=\"TitleBlock__CardInfo-sc-1avkvav-10 iCjViR\" data-testid=\"card-info\"><p class=\"TitleBlock__CardInfoItem-sc-1avkvav-9 iLMdur\" data-testid=\"beds\">3 Bed</p><p class=\"TitleBlock__CardInfoItem-sc-1avkvav-9 iLMdur\" data-testid=\"baths\">2 Bath</p><p class=\"TitleBlock__CardInfoItem-sc-1avkvav-9 iLMdur\" data-testid=\"floor-area\">100 m²</p><p class=\"TitleBlock__CardInfoItem-sc-1avkvav-9 cKZZql\" data-testid=\"property-type\">End of Terrace</p><div class=\"TitleBlock__BerContainer-sc-1avkvav-11 iXTpuT\"><img alt=\"\" class=\"TitleBlock__Ber-sc-1avkvav-7 iDkita\" data-testid=\"ber-image\" src=\"https://hermes.daft.ie/dsch-daft-frontend/1.0.1670857707/static/images/fallbacks/BerPlaceholder.png\"/></div></div><div class=\"TitleBlock__CardExtraInfo-sc-1avkvav-3 iZAQwx\" data-testid=\"callout-container\"><span class=\"TitleBlock__TextWrapper-sc-1avkvav-0 hzldvs\" data-testid=\"virtual-tour\">Virtual Tour</span><span class=\"TitleBlock__AgentNameTextWrapper-sc-1avkvav-2 izFGQg\" data-testid=\"agent-name\">Mullery O'Gara Estate Agents</span></div></div></div>,\n",
       " <div class=\"Cardstyled__TitleBlockWrapper-nngi4q-4 eMeJos\"><div data-testid=\"title-block\"><div class=\"TitleBlock__Price-sc-1avkvav-4 hiFkJc\" data-testid=\"price\"><span class=\"TitleBlock__StyledSpan-sc-1avkvav-5 fKAzIL\">€1,495,000<!-- --> </span></div><p class=\"TitleBlock__Address-sc-1avkvav-8 dzihyY\" data-testid=\"address\">11 Somerton, Castleknock Golf Club, Castleknock, Dublin 15</p><div class=\"TitleBlock__CardInfo-sc-1avkvav-10 iCjViR\" data-testid=\"card-info\"><p class=\"TitleBlock__CardInfoItem-sc-1avkvav-9 iLMdur\" data-testid=\"beds\">5 Bed</p><p class=\"TitleBlock__CardInfoItem-sc-1avkvav-9 iLMdur\" data-testid=\"baths\">6 Bath</p><p class=\"TitleBlock__CardInfoItem-sc-1avkvav-9 iLMdur\" data-testid=\"floor-area\">286 m²</p><p class=\"TitleBlock__CardInfoItem-sc-1avkvav-9 cKZZql\" data-testid=\"property-type\">Detached</p><div class=\"TitleBlock__BerContainer-sc-1avkvav-11 iXTpuT\"><img alt=\"\" class=\"TitleBlock__Ber-sc-1avkvav-7 iDkita\" data-testid=\"ber-image\" src=\"https://hermes.daft.ie/dsch-daft-frontend/1.0.1670857707/static/images/fallbacks/BerPlaceholder.png\"/></div></div><div class=\"TitleBlock__CardExtraInfo-sc-1avkvav-3 iZAQwx\" data-testid=\"callout-container\"><span class=\"TitleBlock__AgentNameTextWrapper-sc-1avkvav-2 izFGQg\" data-testid=\"agent-name\">DFM Auctioneers, Estate Agents &amp; Valuers</span></div></div></div>,\n",
       " <div class=\"Cardstyled__TitleBlockWrapper-nngi4q-4 eMeJos\"><div data-testid=\"title-block\"><div class=\"TitleBlock__Price-sc-1avkvav-4 hiFkJc\" data-testid=\"price\"><span class=\"TitleBlock__StyledSpan-sc-1avkvav-5 fKAzIL\">€2,495,000<!-- --> </span></div><p class=\"TitleBlock__Address-sc-1avkvav-8 dzihyY\" data-testid=\"address\">86 Kincora Road, Clontarf, Clontarf, Dublin 3</p><div class=\"TitleBlock__CardInfo-sc-1avkvav-10 iCjViR\" data-testid=\"card-info\"><p class=\"TitleBlock__CardInfoItem-sc-1avkvav-9 iLMdur\" data-testid=\"beds\">4 Bed</p><p class=\"TitleBlock__CardInfoItem-sc-1avkvav-9 iLMdur\" data-testid=\"baths\">2 Bath</p><p class=\"TitleBlock__CardInfoItem-sc-1avkvav-9 iLMdur\" data-testid=\"floor-area\">286 m²</p><p class=\"TitleBlock__CardInfoItem-sc-1avkvav-9 cKZZql\" data-testid=\"property-type\">Detached</p><div class=\"TitleBlock__BerContainer-sc-1avkvav-11 iXTpuT\"><img alt=\"\" class=\"TitleBlock__Ber-sc-1avkvav-7 iDkita\" data-testid=\"ber-image\" src=\"https://hermes.daft.ie/dsch-daft-frontend/1.0.1670857707/static/images/fallbacks/BerPlaceholder.png\"/></div></div><div class=\"TitleBlock__CardExtraInfo-sc-1avkvav-3 iZAQwx\" data-testid=\"callout-container\"><span class=\"TitleBlock__AgentNameTextWrapper-sc-1avkvav-2 izFGQg\" data-testid=\"agent-name\">Gallagher Quigley</span></div></div></div>,\n",
       " <div class=\"Cardstyled__TitleBlockWrapper-nngi4q-4 eMeJos\"><div data-testid=\"title-block\"><div class=\"TitleBlock__Price-sc-1avkvav-4 hiFkJc\" data-testid=\"price\"><span class=\"TitleBlock__StyledSpan-sc-1avkvav-5 fKAzIL\">€310,000<!-- --> </span></div><p class=\"TitleBlock__Address-sc-1avkvav-8 dzihyY\" data-testid=\"address\">34 The Pine, The Wintergarden, Pearse Street, Dublin 2</p><div class=\"TitleBlock__CardInfo-sc-1avkvav-10 iCjViR\" data-testid=\"card-info\"><p class=\"TitleBlock__CardInfoItem-sc-1avkvav-9 iLMdur\" data-testid=\"beds\">1 Bed</p><p class=\"TitleBlock__CardInfoItem-sc-1avkvav-9 iLMdur\" data-testid=\"baths\">1 Bath</p><p class=\"TitleBlock__CardInfoItem-sc-1avkvav-9 iLMdur\" data-testid=\"floor-area\">45 m²</p><p class=\"TitleBlock__CardInfoItem-sc-1avkvav-9 cKZZql\" data-testid=\"property-type\">Apartment</p><div class=\"TitleBlock__BerContainer-sc-1avkvav-11 gcZgkQ\"><img alt=\"\" class=\"TitleBlock__Ber-sc-1avkvav-7 iDkita\" data-testid=\"ber-image\" src=\"https://hermes.daft.ie/dsch-daft-frontend/1.0.1670857707/static/images/fallbacks/BerPlaceholder.png\"/></div></div><div class=\"TitleBlock__CardExtraInfo-sc-1avkvav-3 iZAQwx\" data-testid=\"callout-container\"><span class=\"TitleBlock__AgentNameTextWrapper-sc-1avkvav-2 cFBauB\" data-testid=\"agent-name\">Quillsen Terenure</span></div></div></div>,\n",
       " <div class=\"Cardstyled__TitleBlockWrapper-nngi4q-4 eMeJos\"><div data-testid=\"title-block\"><div class=\"TitleBlock__Price-sc-1avkvav-4 hiFkJc\" data-testid=\"price\"><span class=\"TitleBlock__StyledSpan-sc-1avkvav-5 fKAzIL\">€470,000<!-- --> </span></div><p class=\"TitleBlock__Address-sc-1avkvav-8 dzihyY\" data-testid=\"address\">Apartment 17, Amber, The Grange, Stillorgan, Co. Dublin</p><div class=\"TitleBlock__CardInfo-sc-1avkvav-10 iCjViR\" data-testid=\"card-info\"><p class=\"TitleBlock__CardInfoItem-sc-1avkvav-9 iLMdur\" data-testid=\"beds\">2 Bed</p><p class=\"TitleBlock__CardInfoItem-sc-1avkvav-9 iLMdur\" data-testid=\"baths\">2 Bath</p><p class=\"TitleBlock__CardInfoItem-sc-1avkvav-9 iLMdur\" data-testid=\"floor-area\">74 m²</p><p class=\"TitleBlock__CardInfoItem-sc-1avkvav-9 cKZZql\" data-testid=\"property-type\">Apartment</p><div class=\"TitleBlock__BerContainer-sc-1avkvav-11 gcZgkQ\"><img alt=\"\" class=\"TitleBlock__Ber-sc-1avkvav-7 iDkita\" data-testid=\"ber-image\" src=\"https://hermes.daft.ie/dsch-daft-frontend/1.0.1670857707/static/images/fallbacks/BerPlaceholder.png\"/></div></div><div class=\"TitleBlock__CardExtraInfo-sc-1avkvav-3 iZAQwx\" data-testid=\"callout-container\"><span class=\"TitleBlock__AgentNameTextWrapper-sc-1avkvav-2 cFBauB\" data-testid=\"agent-name\">Russell Estate Agents</span></div></div></div>]"
      ]
     },
     "execution_count": 13,
     "metadata": {},
     "output_type": "execute_result"
    }
   ],
   "source": [
    "# get the div which contains the information for each listing \n",
    "# content_card = doc.find_all(\".Cardstyled__TitleBlockWrapper-nngi4q-4.eMeJos\")\n",
    "\n",
    "content_card = doc.find_all(attrs={\"class\": [\"Cardstyled__TitleBlockWrapper-nngi4q-4\",\"eMeJos\"]})\n",
    "\n",
    "content_card"
   ]
  },
  {
   "cell_type": "code",
   "execution_count": 14,
   "metadata": {},
   "outputs": [],
   "source": [
    "# all_data"
   ]
  },
  {
   "cell_type": "code",
   "execution_count": 15,
   "metadata": {},
   "outputs": [
    {
     "name": "stdout",
     "output_type": "stream",
     "text": [
      "Next page\n",
      "Next page\n",
      "Next page\n",
      "Next page\n",
      "Next page\n",
      "Next page\n",
      "Next page\n",
      "Next page\n",
      "Next page\n",
      "Next page\n",
      "Next page\n",
      "Next page\n",
      "Next page\n",
      "Next page\n",
      "Next page\n",
      "Next page\n",
      "Next page\n",
      "Next page\n",
      "Next page\n",
      "Next page\n",
      "Next page\n",
      "Next page\n",
      "Next page\n",
      "Next page\n",
      "Next page\n",
      "Next page\n",
      "Next page\n",
      "Next page\n",
      "Next page\n",
      "Next page\n",
      "Next page\n",
      "Next page\n",
      "Next page\n",
      "Next page\n",
      "Next page\n",
      "Next page\n",
      "Next page\n",
      "Next page\n",
      "Next page\n",
      "Next page\n",
      "Next page\n",
      "Next page\n",
      "Next page\n",
      "Next page\n",
      "Next page\n",
      "Next page\n",
      "Next page\n",
      "Next page\n",
      "Next page\n",
      "Next page\n",
      "Next page\n",
      "Next page\n",
      "Next page\n",
      "Next page\n",
      "Next page\n",
      "Next page\n",
      "Next page\n",
      "Next page\n",
      "Next page\n",
      "Next page\n",
      "Next page\n",
      "Next page\n",
      "Next page\n",
      "Next page\n",
      "Next page\n",
      "Next page\n",
      "Next page\n",
      "Next page\n",
      "Next page\n",
      "Next page\n",
      "Next page\n",
      "Next page\n",
      "Next page\n",
      "Next page\n",
      "Next page\n",
      "Next page\n",
      "Next page\n",
      "Next page\n",
      "Next page\n",
      "Next page\n",
      "Next page\n",
      "Next page\n",
      "Next page\n",
      "Next page\n",
      "Next page\n",
      "Next page\n",
      "Next page\n",
      "Next page\n",
      "Next page\n",
      "Next page\n",
      "Next page\n",
      "Next page\n",
      "Next page\n",
      "Next page\n",
      "Next page\n",
      "Next page\n",
      "Next page\n",
      "Next page\n",
      "Next page\n",
      "Next page\n",
      "Next page\n",
      "Next page\n",
      "Next page\n",
      "Next page\n",
      "Next page\n",
      "Next page\n",
      "Next page\n",
      "Next page\n",
      "Next page\n",
      "Next page\n",
      "Next page\n",
      "Next page\n",
      "Next page\n",
      "Next page\n",
      "Next page\n",
      "Next page\n",
      "Next page\n",
      "Next page\n",
      "Next page\n",
      "Next page\n",
      "Next page\n",
      "Next page\n",
      "Next page\n",
      "Next page\n",
      "Next page\n",
      "Next page\n",
      "Next page\n",
      "Next page\n",
      "Next page\n",
      "Next page\n",
      "Next page\n",
      "Next page\n",
      "Next page\n",
      "Next page\n",
      "Next page\n",
      "Next page\n",
      "Next page\n",
      "Next page\n",
      "Next page\n",
      "Next page\n",
      "Next page\n",
      "Next page\n",
      "Next page\n",
      "Next page\n",
      "Next page\n",
      "Next page\n",
      "Next page\n",
      "Next page\n",
      "Next page\n",
      "Next page\n",
      "Next page\n",
      "Next page\n",
      "Next page\n",
      "Next page\n",
      "Next page\n",
      "Next page\n",
      "Next page\n",
      "Next page\n",
      "Next page\n",
      "Next page\n",
      "Next page\n",
      "Next page\n",
      "Next page\n",
      "Next page\n",
      "Next page\n",
      "Next page\n",
      "Next page\n",
      "Next page\n",
      "Next page\n"
     ]
    },
    {
     "ename": "TimeoutError",
     "evalue": "Timeout 30000.0ms exceeded.\n=========================== logs ===========================\nwaiting for navigation until 'load'\n============================================================",
     "output_type": "error",
     "traceback": [
      "\u001b[0;31m---------------------------------------------------------------------------\u001b[0m",
      "\u001b[0;31mTimeoutError\u001b[0m                              Traceback (most recent call last)",
      "\u001b[0;32m<ipython-input-15-10fc41151784>\u001b[0m in \u001b[0;36m<module>\u001b[0;34m\u001b[0m\n\u001b[1;32m     33\u001b[0m         \u001b[0;32masync\u001b[0m \u001b[0;32mwith\u001b[0m \u001b[0mpage\u001b[0m\u001b[0;34m.\u001b[0m\u001b[0mexpect_navigation\u001b[0m\u001b[0;34m(\u001b[0m\u001b[0;34m)\u001b[0m\u001b[0;34m:\u001b[0m\u001b[0;34m\u001b[0m\u001b[0;34m\u001b[0m\u001b[0m\n\u001b[0;32m---> 34\u001b[0;31m             \u001b[0;32mawait\u001b[0m \u001b[0mpage\u001b[0m\u001b[0;34m.\u001b[0m\u001b[0mget_by_text\u001b[0m\u001b[0;34m(\u001b[0m\u001b[0;34m\"Next >\"\u001b[0m\u001b[0;34m)\u001b[0m\u001b[0;34m.\u001b[0m\u001b[0mclick\u001b[0m\u001b[0;34m(\u001b[0m\u001b[0;34m)\u001b[0m\u001b[0;34m\u001b[0m\u001b[0;34m\u001b[0m\u001b[0m\n\u001b[0m\u001b[1;32m     35\u001b[0m \u001b[0;34m\u001b[0m\u001b[0m\n",
      "\u001b[0;32m/opt/anaconda3/lib/python3.8/site-packages/playwright/async_api/_generated.py\u001b[0m in \u001b[0;36mclick\u001b[0;34m(self, modifiers, position, delay, button, click_count, timeout, force, no_wait_after, trial)\u001b[0m\n\u001b[1;32m  13616\u001b[0m         return mapping.from_maybe_impl(\n\u001b[0;32m> 13617\u001b[0;31m             await self._impl_obj.click(\n\u001b[0m\u001b[1;32m  13618\u001b[0m                 \u001b[0mmodifiers\u001b[0m\u001b[0;34m=\u001b[0m\u001b[0mmapping\u001b[0m\u001b[0;34m.\u001b[0m\u001b[0mto_impl\u001b[0m\u001b[0;34m(\u001b[0m\u001b[0mmodifiers\u001b[0m\u001b[0;34m)\u001b[0m\u001b[0;34m,\u001b[0m\u001b[0;34m\u001b[0m\u001b[0;34m\u001b[0m\u001b[0m\n",
      "\u001b[0;32m/opt/anaconda3/lib/python3.8/site-packages/playwright/_impl/_locator.py\u001b[0m in \u001b[0;36mclick\u001b[0;34m(self, modifiers, position, delay, button, clickCount, timeout, force, noWaitAfter, trial)\u001b[0m\n\u001b[1;32m    145\u001b[0m         \u001b[0mparams\u001b[0m \u001b[0;34m=\u001b[0m \u001b[0mlocals_to_params\u001b[0m\u001b[0;34m(\u001b[0m\u001b[0mlocals\u001b[0m\u001b[0;34m(\u001b[0m\u001b[0;34m)\u001b[0m\u001b[0;34m)\u001b[0m\u001b[0;34m\u001b[0m\u001b[0;34m\u001b[0m\u001b[0m\n\u001b[0;32m--> 146\u001b[0;31m         \u001b[0;32mreturn\u001b[0m \u001b[0;32mawait\u001b[0m \u001b[0mself\u001b[0m\u001b[0;34m.\u001b[0m\u001b[0m_frame\u001b[0m\u001b[0;34m.\u001b[0m\u001b[0mclick\u001b[0m\u001b[0;34m(\u001b[0m\u001b[0mself\u001b[0m\u001b[0;34m.\u001b[0m\u001b[0m_selector\u001b[0m\u001b[0;34m,\u001b[0m \u001b[0mstrict\u001b[0m\u001b[0;34m=\u001b[0m\u001b[0;32mTrue\u001b[0m\u001b[0;34m,\u001b[0m \u001b[0;34m**\u001b[0m\u001b[0mparams\u001b[0m\u001b[0;34m)\u001b[0m\u001b[0;34m\u001b[0m\u001b[0;34m\u001b[0m\u001b[0m\n\u001b[0m\u001b[1;32m    147\u001b[0m \u001b[0;34m\u001b[0m\u001b[0m\n",
      "\u001b[0;32m/opt/anaconda3/lib/python3.8/site-packages/playwright/_impl/_frame.py\u001b[0m in \u001b[0;36mclick\u001b[0;34m(self, selector, modifiers, position, delay, button, clickCount, timeout, force, noWaitAfter, strict, trial)\u001b[0m\n\u001b[1;32m    488\u001b[0m     ) -> None:\n\u001b[0;32m--> 489\u001b[0;31m         \u001b[0;32mawait\u001b[0m \u001b[0mself\u001b[0m\u001b[0;34m.\u001b[0m\u001b[0m_channel\u001b[0m\u001b[0;34m.\u001b[0m\u001b[0msend\u001b[0m\u001b[0;34m(\u001b[0m\u001b[0;34m\"click\"\u001b[0m\u001b[0;34m,\u001b[0m \u001b[0mlocals_to_params\u001b[0m\u001b[0;34m(\u001b[0m\u001b[0mlocals\u001b[0m\u001b[0;34m(\u001b[0m\u001b[0;34m)\u001b[0m\u001b[0;34m)\u001b[0m\u001b[0;34m)\u001b[0m\u001b[0;34m\u001b[0m\u001b[0;34m\u001b[0m\u001b[0m\n\u001b[0m\u001b[1;32m    490\u001b[0m \u001b[0;34m\u001b[0m\u001b[0m\n",
      "\u001b[0;32m/opt/anaconda3/lib/python3.8/site-packages/playwright/_impl/_connection.py\u001b[0m in \u001b[0;36msend\u001b[0;34m(self, method, params)\u001b[0m\n\u001b[1;32m     43\u001b[0m     \u001b[0;32masync\u001b[0m \u001b[0;32mdef\u001b[0m \u001b[0msend\u001b[0m\u001b[0;34m(\u001b[0m\u001b[0mself\u001b[0m\u001b[0;34m,\u001b[0m \u001b[0mmethod\u001b[0m\u001b[0;34m:\u001b[0m \u001b[0mstr\u001b[0m\u001b[0;34m,\u001b[0m \u001b[0mparams\u001b[0m\u001b[0;34m:\u001b[0m \u001b[0mDict\u001b[0m \u001b[0;34m=\u001b[0m \u001b[0;32mNone\u001b[0m\u001b[0;34m)\u001b[0m \u001b[0;34m->\u001b[0m \u001b[0mAny\u001b[0m\u001b[0;34m:\u001b[0m\u001b[0;34m\u001b[0m\u001b[0;34m\u001b[0m\u001b[0m\n\u001b[0;32m---> 44\u001b[0;31m         return await self._connection.wrap_api_call(\n\u001b[0m\u001b[1;32m     45\u001b[0m             \u001b[0;32mlambda\u001b[0m\u001b[0;34m:\u001b[0m \u001b[0mself\u001b[0m\u001b[0;34m.\u001b[0m\u001b[0minner_send\u001b[0m\u001b[0;34m(\u001b[0m\u001b[0mmethod\u001b[0m\u001b[0;34m,\u001b[0m \u001b[0mparams\u001b[0m\u001b[0;34m,\u001b[0m \u001b[0;32mFalse\u001b[0m\u001b[0;34m)\u001b[0m\u001b[0;34m\u001b[0m\u001b[0;34m\u001b[0m\u001b[0m\n",
      "\u001b[0;32m/opt/anaconda3/lib/python3.8/site-packages/playwright/_impl/_connection.py\u001b[0m in \u001b[0;36mwrap_api_call\u001b[0;34m(self, cb, is_internal)\u001b[0m\n\u001b[1;32m    418\u001b[0m         \u001b[0;32mtry\u001b[0m\u001b[0;34m:\u001b[0m\u001b[0;34m\u001b[0m\u001b[0;34m\u001b[0m\u001b[0m\n\u001b[0;32m--> 419\u001b[0;31m             \u001b[0;32mreturn\u001b[0m \u001b[0;32mawait\u001b[0m \u001b[0mcb\u001b[0m\u001b[0;34m(\u001b[0m\u001b[0;34m)\u001b[0m\u001b[0;34m\u001b[0m\u001b[0;34m\u001b[0m\u001b[0m\n\u001b[0m\u001b[1;32m    420\u001b[0m         \u001b[0;32mfinally\u001b[0m\u001b[0;34m:\u001b[0m\u001b[0;34m\u001b[0m\u001b[0;34m\u001b[0m\u001b[0m\n",
      "\u001b[0;32m/opt/anaconda3/lib/python3.8/site-packages/playwright/_impl/_connection.py\u001b[0m in \u001b[0;36minner_send\u001b[0;34m(self, method, params, return_as_dict)\u001b[0m\n\u001b[1;32m     78\u001b[0m             \u001b[0mcallback\u001b[0m\u001b[0;34m.\u001b[0m\u001b[0mfuture\u001b[0m\u001b[0;34m.\u001b[0m\u001b[0mcancel\u001b[0m\u001b[0;34m(\u001b[0m\u001b[0;34m)\u001b[0m\u001b[0;34m\u001b[0m\u001b[0;34m\u001b[0m\u001b[0m\n\u001b[0;32m---> 79\u001b[0;31m         \u001b[0mresult\u001b[0m \u001b[0;34m=\u001b[0m \u001b[0mnext\u001b[0m\u001b[0;34m(\u001b[0m\u001b[0miter\u001b[0m\u001b[0;34m(\u001b[0m\u001b[0mdone\u001b[0m\u001b[0;34m)\u001b[0m\u001b[0;34m)\u001b[0m\u001b[0;34m.\u001b[0m\u001b[0mresult\u001b[0m\u001b[0;34m(\u001b[0m\u001b[0;34m)\u001b[0m\u001b[0;34m\u001b[0m\u001b[0;34m\u001b[0m\u001b[0m\n\u001b[0m\u001b[1;32m     80\u001b[0m         \u001b[0;31m# Protocol now has named return values, assume result is one level deeper unless\u001b[0m\u001b[0;34m\u001b[0m\u001b[0;34m\u001b[0m\u001b[0;34m\u001b[0m\u001b[0m\n",
      "\u001b[0;31mTimeoutError\u001b[0m: Timeout 30000ms exceeded.\n=========================== logs ===========================\nwaiting for get_by_text(\"Next >\")\n  locator resolved to visible <span class=\"NewButton__ButtonText-yem86a-0 cIVIcD\">Next ></span>\nattempting click action\n  waiting for element to be visible, enabled and stable\n    element is not enabled - waiting...\n============================================================",
      "\nDuring handling of the above exception, another exception occurred:\n",
      "\u001b[0;31mTimeoutError\u001b[0m                              Traceback (most recent call last)",
      "\u001b[0;32m<ipython-input-15-10fc41151784>\u001b[0m in \u001b[0;36m<module>\u001b[0;34m\u001b[0m\n\u001b[1;32m     36\u001b[0m     \u001b[0;32mexcept\u001b[0m \u001b[0mException\u001b[0m \u001b[0;32mas\u001b[0m \u001b[0me\u001b[0m\u001b[0;34m:\u001b[0m\u001b[0;34m\u001b[0m\u001b[0;34m\u001b[0m\u001b[0m\n\u001b[1;32m     37\u001b[0m \u001b[0;34m\u001b[0m\u001b[0m\n\u001b[0;32m---> 38\u001b[0;31m         \u001b[0;32mraise\u001b[0m \u001b[0me\u001b[0m\u001b[0;34m\u001b[0m\u001b[0;34m\u001b[0m\u001b[0m\n\u001b[0m\u001b[1;32m     39\u001b[0m         \u001b[0mprint\u001b[0m\u001b[0;34m(\u001b[0m\u001b[0;34m\"Could not click the 'next' button\"\u001b[0m\u001b[0;34m)\u001b[0m\u001b[0;34m\u001b[0m\u001b[0;34m\u001b[0m\u001b[0m\n\u001b[1;32m     40\u001b[0m         \u001b[0;32mbreak\u001b[0m\u001b[0;34m\u001b[0m\u001b[0;34m\u001b[0m\u001b[0m\n",
      "\u001b[0;32m<ipython-input-15-10fc41151784>\u001b[0m in \u001b[0;36m<module>\u001b[0;34m\u001b[0m\n\u001b[1;32m     32\u001b[0m         \u001b[0mprint\u001b[0m\u001b[0;34m(\u001b[0m\u001b[0;34m\"Next page\"\u001b[0m\u001b[0;34m)\u001b[0m\u001b[0;34m\u001b[0m\u001b[0;34m\u001b[0m\u001b[0m\n\u001b[1;32m     33\u001b[0m         \u001b[0;32masync\u001b[0m \u001b[0;32mwith\u001b[0m \u001b[0mpage\u001b[0m\u001b[0;34m.\u001b[0m\u001b[0mexpect_navigation\u001b[0m\u001b[0;34m(\u001b[0m\u001b[0;34m)\u001b[0m\u001b[0;34m:\u001b[0m\u001b[0;34m\u001b[0m\u001b[0;34m\u001b[0m\u001b[0m\n\u001b[0;32m---> 34\u001b[0;31m             \u001b[0;32mawait\u001b[0m \u001b[0mpage\u001b[0m\u001b[0;34m.\u001b[0m\u001b[0mget_by_text\u001b[0m\u001b[0;34m(\u001b[0m\u001b[0;34m\"Next >\"\u001b[0m\u001b[0;34m)\u001b[0m\u001b[0;34m.\u001b[0m\u001b[0mclick\u001b[0m\u001b[0;34m(\u001b[0m\u001b[0;34m)\u001b[0m\u001b[0;34m\u001b[0m\u001b[0;34m\u001b[0m\u001b[0m\n\u001b[0m\u001b[1;32m     35\u001b[0m \u001b[0;34m\u001b[0m\u001b[0m\n\u001b[1;32m     36\u001b[0m     \u001b[0;32mexcept\u001b[0m \u001b[0mException\u001b[0m \u001b[0;32mas\u001b[0m \u001b[0me\u001b[0m\u001b[0;34m:\u001b[0m\u001b[0;34m\u001b[0m\u001b[0;34m\u001b[0m\u001b[0m\n",
      "\u001b[0;32m/opt/anaconda3/lib/python3.8/site-packages/playwright/_impl/_async_base.py\u001b[0m in \u001b[0;36m__aexit__\u001b[0;34m(self, exc_type, exc_val, exc_tb)\u001b[0m\n\u001b[1;32m     51\u001b[0m         \u001b[0mexc_tb\u001b[0m\u001b[0;34m:\u001b[0m \u001b[0mTracebackType\u001b[0m\u001b[0;34m,\u001b[0m\u001b[0;34m\u001b[0m\u001b[0;34m\u001b[0m\u001b[0m\n\u001b[1;32m     52\u001b[0m     ) -> None:\n\u001b[0;32m---> 53\u001b[0;31m         \u001b[0;32mawait\u001b[0m \u001b[0mself\u001b[0m\u001b[0;34m.\u001b[0m\u001b[0m_event\u001b[0m\u001b[0;34m.\u001b[0m\u001b[0mvalue\u001b[0m\u001b[0;34m\u001b[0m\u001b[0;34m\u001b[0m\u001b[0m\n\u001b[0m\u001b[1;32m     54\u001b[0m \u001b[0;34m\u001b[0m\u001b[0m\n\u001b[1;32m     55\u001b[0m \u001b[0;34m\u001b[0m\u001b[0m\n",
      "\u001b[0;32m/opt/anaconda3/lib/python3.8/site-packages/playwright/_impl/_async_base.py\u001b[0m in \u001b[0;36mvalue\u001b[0;34m(self)\u001b[0m\n\u001b[1;32m     32\u001b[0m     \u001b[0;34m@\u001b[0m\u001b[0mproperty\u001b[0m\u001b[0;34m\u001b[0m\u001b[0;34m\u001b[0m\u001b[0m\n\u001b[1;32m     33\u001b[0m     \u001b[0;32masync\u001b[0m \u001b[0;32mdef\u001b[0m \u001b[0mvalue\u001b[0m\u001b[0;34m(\u001b[0m\u001b[0mself\u001b[0m\u001b[0;34m)\u001b[0m \u001b[0;34m->\u001b[0m \u001b[0mT\u001b[0m\u001b[0;34m:\u001b[0m\u001b[0;34m\u001b[0m\u001b[0;34m\u001b[0m\u001b[0m\n\u001b[0;32m---> 34\u001b[0;31m         \u001b[0;32mreturn\u001b[0m \u001b[0mmapping\u001b[0m\u001b[0;34m.\u001b[0m\u001b[0mfrom_maybe_impl\u001b[0m\u001b[0;34m(\u001b[0m\u001b[0;32mawait\u001b[0m \u001b[0mself\u001b[0m\u001b[0;34m.\u001b[0m\u001b[0m_future\u001b[0m\u001b[0;34m)\u001b[0m\u001b[0;34m\u001b[0m\u001b[0;34m\u001b[0m\u001b[0m\n\u001b[0m\u001b[1;32m     35\u001b[0m \u001b[0;34m\u001b[0m\u001b[0m\n\u001b[1;32m     36\u001b[0m     \u001b[0;32mdef\u001b[0m \u001b[0mis_done\u001b[0m\u001b[0;34m(\u001b[0m\u001b[0mself\u001b[0m\u001b[0;34m)\u001b[0m \u001b[0;34m->\u001b[0m \u001b[0mbool\u001b[0m\u001b[0;34m:\u001b[0m\u001b[0;34m\u001b[0m\u001b[0;34m\u001b[0m\u001b[0m\n",
      "\u001b[0;32m/opt/anaconda3/lib/python3.8/site-packages/playwright/_impl/_frame.py\u001b[0m in \u001b[0;36mcontinuation\u001b[0;34m()\u001b[0m\n\u001b[1;32m    206\u001b[0m \u001b[0;34m\u001b[0m\u001b[0m\n\u001b[1;32m    207\u001b[0m         \u001b[0;32masync\u001b[0m \u001b[0;32mdef\u001b[0m \u001b[0mcontinuation\u001b[0m\u001b[0;34m(\u001b[0m\u001b[0;34m)\u001b[0m \u001b[0;34m->\u001b[0m \u001b[0mOptional\u001b[0m\u001b[0;34m[\u001b[0m\u001b[0mResponse\u001b[0m\u001b[0;34m]\u001b[0m\u001b[0;34m:\u001b[0m\u001b[0;34m\u001b[0m\u001b[0;34m\u001b[0m\u001b[0m\n\u001b[0;32m--> 208\u001b[0;31m             \u001b[0mevent\u001b[0m \u001b[0;34m=\u001b[0m \u001b[0;32mawait\u001b[0m \u001b[0mwait_helper\u001b[0m\u001b[0;34m.\u001b[0m\u001b[0mresult\u001b[0m\u001b[0;34m(\u001b[0m\u001b[0;34m)\u001b[0m\u001b[0;34m\u001b[0m\u001b[0;34m\u001b[0m\u001b[0m\n\u001b[0m\u001b[1;32m    209\u001b[0m             \u001b[0;32mif\u001b[0m \u001b[0;34m\"error\"\u001b[0m \u001b[0;32min\u001b[0m \u001b[0mevent\u001b[0m\u001b[0;34m:\u001b[0m\u001b[0;34m\u001b[0m\u001b[0;34m\u001b[0m\u001b[0m\n\u001b[1;32m    210\u001b[0m                 \u001b[0;32mraise\u001b[0m \u001b[0mError\u001b[0m\u001b[0;34m(\u001b[0m\u001b[0mevent\u001b[0m\u001b[0;34m[\u001b[0m\u001b[0;34m\"error\"\u001b[0m\u001b[0;34m]\u001b[0m\u001b[0;34m)\u001b[0m\u001b[0;34m\u001b[0m\u001b[0;34m\u001b[0m\u001b[0m\n",
      "\u001b[0;31mTimeoutError\u001b[0m: Timeout 30000.0ms exceeded.\n=========================== logs ===========================\nwaiting for navigation until 'load'\n============================================================"
     ]
    }
   ],
   "source": [
    "# this cell: \n",
    "    # goes through every page on the website\n",
    "    # gets the relevant information from each card and dds it to aa dictionary called listing\n",
    "    # each listing is added to the list all_data \n",
    "    # it DOES NOT add the listings that are under the \"ad\" format --> need to fix this? this means we are missing approx 550 listings ... \n",
    "    \n",
    "all_data = []\n",
    "\n",
    "while True:\n",
    "    \n",
    "    try:\n",
    "        html = await page.content()\n",
    "\n",
    "        doc = BeautifulSoup(html)\n",
    "\n",
    "        # content card returns a list with the block of information for each listing \n",
    "        content_card = doc.find_all(attrs={\"class\": [\"Cardstyled__TitleBlockWrapper-nngi4q-4\",\"eMeJos\"]})\n",
    "\n",
    "        # go through each of these to get the listing properties\n",
    "        for card in content_card:\n",
    "            try:\n",
    "                listing = {}\n",
    "                listing[\"price\"] = card.find(attrs={\"class\": [\"TitleBlock__StyledSpan-sc-1avkvav-5\",\"fKAzIL\"]}).string\n",
    "                listing[\"address\"] = card.find(attrs={\"class\": [\"TitleBlock__Address-sc-1avkvav-8\", \"dzihyY\"]}).string\n",
    "                listing[\"bedrooms\"] = card.find(attrs={\"class\": [\"TitleBlock__CardInfoItem-sc-1avkvav-9\", \"iLMdur\"], \"data-testid\": \"beds\"}).string\n",
    "                listing[\"bathrooms\"] = card.find(attrs={\"class\": [\"TitleBlock__CardInfoItem-sc-1avkvav-9\", \"iLMdur\"], \"data-testid\": \"baths\"}).string\n",
    "                listing[\"floor_area\"] = card.find(attrs={\"class\": [\"TitleBlock__CardInfoItem-sc-1avkvav-9\", \"iLMdur\"], \"data-testid\": \"floor-area\"}).text\n",
    "                all_data.append(listing)\n",
    "            except:\n",
    "                pass\n",
    "\n",
    "        print(\"Next page\")\n",
    "        async with page.expect_navigation():\n",
    "            await page.get_by_text(\"Next >\").click()\n",
    "                           \n",
    "    except Exception as e: \n",
    "        \n",
    "        raise e\n",
    "        print(\"Could not click the 'next' button\")\n",
    "        break\n",
    "    \n",
    "print(\"Done\")"
   ]
  },
  {
   "cell_type": "code",
   "execution_count": 16,
   "metadata": {
    "scrolled": false
   },
   "outputs": [
    {
     "name": "stdout",
     "output_type": "stream",
     "text": [
      "2814\n"
     ]
    }
   ],
   "source": [
    "# check check\n",
    "\n",
    "# see how many listings I have \n",
    "\n",
    "print(len(all_data))\n",
    "\n",
    "# await browser.close()"
   ]
  },
  {
   "cell_type": "code",
   "execution_count": 17,
   "metadata": {},
   "outputs": [],
   "source": [
    "import pandas as pd\n",
    "from datetime import date\n",
    "\n",
    "today = date.today()\n",
    "year = today.year\n",
    "month = today.month\n",
    "day = today.day\n",
    "\n",
    "if day < 9:\n",
    "    day = \"0\" + str(day) \n",
    "    \n",
    "df = pd.DataFrame.from_dict(all_data)\n",
    "\n",
    "df.to_csv(f\"./scrape_output/daft_listings_{year}{month}{day}.csv\")"
   ]
  },
  {
   "cell_type": "code",
   "execution_count": null,
   "metadata": {},
   "outputs": [],
   "source": [
    "# add missing price values for the first few cells manually "
   ]
  },
  {
   "cell_type": "code",
   "execution_count": null,
   "metadata": {},
   "outputs": [],
   "source": []
  }
 ],
 "metadata": {
  "kernelspec": {
   "display_name": "Python 3",
   "language": "python",
   "name": "python3"
  },
  "language_info": {
   "codemirror_mode": {
    "name": "ipython",
    "version": 3
   },
   "file_extension": ".py",
   "mimetype": "text/x-python",
   "name": "python",
   "nbconvert_exporter": "python",
   "pygments_lexer": "ipython3",
   "version": "3.8.3"
  }
 },
 "nbformat": 4,
 "nbformat_minor": 4
}
