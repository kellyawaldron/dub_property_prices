{
 "cells": [
  {
   "cell_type": "code",
   "execution_count": 1,
   "metadata": {},
   "outputs": [],
   "source": [
    "from playwright.async_api import async_playwright"
   ]
  },
  {
   "cell_type": "code",
   "execution_count": null,
   "metadata": {},
   "outputs": [],
   "source": []
  },
  {
   "cell_type": "code",
   "execution_count": 2,
   "metadata": {},
   "outputs": [],
   "source": [
    "playwright = await async_playwright().start()"
   ]
  },
  {
   "cell_type": "code",
   "execution_count": 3,
   "metadata": {},
   "outputs": [],
   "source": [
    "browser = await playwright.chromium.launch(headless = False)"
   ]
  },
  {
   "cell_type": "code",
   "execution_count": 4,
   "metadata": {},
   "outputs": [],
   "source": [
    "# page = await browser.new_page()"
   ]
  },
  {
   "cell_type": "code",
   "execution_count": 5,
   "metadata": {},
   "outputs": [],
   "source": [
    "# await page.goto(\"https://www.myhome.ie/residential\")"
   ]
  },
  {
   "cell_type": "code",
   "execution_count": 6,
   "metadata": {},
   "outputs": [],
   "source": [
    "# await page.click(\"xpath=/html/body/div[2]/div[2]/div/div/div[2]/div/div/button\")"
   ]
  },
  {
   "cell_type": "code",
   "execution_count": 7,
   "metadata": {},
   "outputs": [],
   "source": [
    "# await page.locator(\"select[placeholder='Search']\").select_option(\" Dublin - All \")"
   ]
  },
  {
   "cell_type": "code",
   "execution_count": 8,
   "metadata": {},
   "outputs": [],
   "source": [
    "# await page.locator(\"#sel_region_dropdown\").select_option(\" Dublin - All \")"
   ]
  },
  {
   "cell_type": "code",
   "execution_count": 9,
   "metadata": {},
   "outputs": [],
   "source": [
    "\n",
    "# <span class=\"MhSearchForm__Label\">County/Region</span>\n",
    "# await page.locator(\"select[class='MhDropdown__Button MhDropdown__Button--white MhFormElements__Button']\").select_option(\"Dublin - All\")\n",
    "\n",
    "# await page.click(\"xpath=//html/body/app-root/mat-sidenav-container/mat-sidenav-content/main/app-residential-search-results/div/div/div[2]/app-mobile-search-form-container/div/div/app-mobile-residential-search-form/div/div[5]/div/app-mh-button/button\")\n"
   ]
  },
  {
   "cell_type": "markdown",
   "metadata": {},
   "source": [
    "DAFT.IE"
   ]
  },
  {
   "cell_type": "code",
   "execution_count": 10,
   "metadata": {},
   "outputs": [],
   "source": [
    "page = await browser.new_page()"
   ]
  },
  {
   "cell_type": "code",
   "execution_count": 11,
   "metadata": {},
   "outputs": [
    {
     "data": {
      "text/plain": [
       "<Response url='https://www.daft.ie/' request=<Request url='https://www.daft.ie/' method='GET'>>"
      ]
     },
     "execution_count": 11,
     "metadata": {},
     "output_type": "execute_result"
    }
   ],
   "source": [
    "await page.goto(\"https://www.daft.ie/\")"
   ]
  },
  {
   "cell_type": "code",
   "execution_count": 12,
   "metadata": {},
   "outputs": [],
   "source": [
    "await page.click(\"xpath=/html/body/div[1]/div/div/main/div/button[2]\")"
   ]
  },
  {
   "cell_type": "code",
   "execution_count": 13,
   "metadata": {},
   "outputs": [],
   "source": [
    "try:\n",
    "    await page.click(\"xpath=/html/body/div[5]/div/div/div/div/button/span\")\n",
    "except: \n",
    "    pass"
   ]
  },
  {
   "cell_type": "code",
   "execution_count": 14,
   "metadata": {},
   "outputs": [],
   "source": [
    "# # clicks search bar \n",
    "# await page.click(\"xpath=//html/body/div[2]/div[2]/main/div/div[1]/div/div[2]/div/div/div/div[1]/div/div/div[2]\")"
   ]
  },
  {
   "cell_type": "code",
   "execution_count": 15,
   "metadata": {},
   "outputs": [],
   "source": [
    "# #clicks Dublin\n",
    "# await page.click(\"xpath=//html/body/div[2]/div[2]/main/div/div[1]/div/div[2]/div/div/div/div[2]/ul/li/ul/li[2]/ul/li[1]/div[1]/span/span[1]\")"
   ]
  },
  {
   "cell_type": "code",
   "execution_count": 17,
   "metadata": {},
   "outputs": [],
   "source": [
    "# writes Dublin\n",
    "# what I used before\n",
    "# await page.fill(\"xpath=//html/body/div[2]/div[2]/main/div/div[1]/div/div[2]/div/div/div/div[1]/div/div/div[2]/input\", \"Dublin\")"
   ]
  },
  {
   "cell_type": "code",
   "execution_count": 20,
   "metadata": {},
   "outputs": [],
   "source": [
    "await browser.close()"
   ]
  },
  {
   "cell_type": "code",
   "execution_count": null,
   "metadata": {},
   "outputs": [],
   "source": [
    "try: \n",
    "    await page.click(\"xpath=//html/body/div[2]/div[2]/main/div/div[1]/div/div[2]/div/div/div/div[2]/ul/li[1]\")\n",
    "except: \n",
    "    pass"
   ]
  },
  {
   "cell_type": "code",
   "execution_count": null,
   "metadata": {},
   "outputs": [],
   "source": [
    "try:\n",
    "    await page.click(\"xpath=//html/body/div[6]/div/div/div[1]/button\")\n",
    "except: \n",
    "    pass"
   ]
  },
  {
   "cell_type": "code",
   "execution_count": null,
   "metadata": {},
   "outputs": [],
   "source": [
    "# await page.content()\n",
    "# HUGE output"
   ]
  },
  {
   "cell_type": "code",
   "execution_count": null,
   "metadata": {},
   "outputs": [],
   "source": [
    "import time\n",
    "# sleep parameter "
   ]
  },
  {
   "cell_type": "code",
   "execution_count": null,
   "metadata": {},
   "outputs": [],
   "source": [
    "listing_info = page.locator(\"class=\"Cardstyled__Body-nngi4q-3 hwtmWC\"\")\n",
    "count = await listing_info.count()\n",
    "\n",
    "for i in range(count):\n",
    "    row = listing_info.nth(i)\n",
    "    print(\"-----------\")\n",
    "    print(await row.text_content())\n",
    "    time.sleep(1)"
   ]
  },
  {
   "cell_type": "code",
   "execution_count": null,
   "metadata": {},
   "outputs": [],
   "source": [
    "from bs4 import BeautifulSoup\n",
    "html = await page.content()\n",
    "doc = BeautifulSoup(html)"
   ]
  },
  {
   "cell_type": "code",
   "execution_count": null,
   "metadata": {},
   "outputs": [],
   "source": [
    "cards = doc.find_all(\"div\", {\"class\":\"Cardstyled__ContentWrapper-nngi4q-1 kNlsmQ\"})\n",
    "\n",
    "# (\"div\", {\"class\": \"stylelistrow\"}"
   ]
  },
  {
   "cell_type": "code",
   "execution_count": null,
   "metadata": {},
   "outputs": [],
   "source": [
    "cards"
   ]
  },
  {
   "cell_type": "code",
   "execution_count": null,
   "metadata": {},
   "outputs": [],
   "source": [
    "rows = doc.find_all(\"div\")\n",
    "\n",
    "# listings = rows.find_all(class_=\"Cardstyled__Body-nngi4q-3 hwtmWC\")\n",
    "# class=\"Cardstyled__Body-nngi4q-3 hwtmWC\"\n",
    "\n",
    "rows"
   ]
  },
  {
   "cell_type": "code",
   "execution_count": null,
   "metadata": {},
   "outputs": [],
   "source": [
    "listing_price = await page.query_selector_all(\"li\")\n",
    "\n",
    "\n",
    "\n",
    "# try:\n",
    "#     for row in results[1:]:\n",
    "#         price = await row.query_selector(\".div .span .TitleBlock__StyledSpan-sc-1avkvav-5 .fKAzIL\")\n",
    "#         print(\"-----------\")\n",
    "#         print(await price.text_content())\n",
    "\n",
    "# except: \n",
    "#     print(\"It didn't work\")"
   ]
  },
  {
   "cell_type": "code",
   "execution_count": null,
   "metadata": {},
   "outputs": [],
   "source": [
    "# Reference each div body box: "
   ]
  },
  {
   "cell_type": "code",
   "execution_count": null,
   "metadata": {},
   "outputs": [],
   "source": [
    "# <div data-testid=\"card-body\" class=\"Cardstyled__Body-nngi4q-3 hwtmWC\"><div class=\"Cardstyled__TitleBlockWrapper-nngi4q-4 eMeJos\"><div data-testid=\"title-block\"><div data-testid=\"price\" class=\"TitleBlock__Price-sc-1avkvav-4 hiFkJc\"><span class=\"TitleBlock__StyledSpan-sc-1avkvav-5 fKAzIL\">€3,000,000 </span></div><p data-testid=\"address\" class=\"TitleBlock__Address-sc-1avkvav-8 dzihyY\">7 Henrietta Street, Dublin 1</p><div data-testid=\"card-info\" class=\"TitleBlock__CardInfo-sc-1avkvav-10 iCjViR\"><p data-testid=\"beds\" class=\"TitleBlock__CardInfoItem-sc-1avkvav-9 iLMdur\">6 Bed</p><p data-testid=\"baths\" class=\"TitleBlock__CardInfoItem-sc-1avkvav-9 iLMdur\">7 Bath</p><p data-testid=\"floor-area\" class=\"TitleBlock__CardInfoItem-sc-1avkvav-9 iLMdur\">763 m²</p><p data-testid=\"property-type\" class=\"TitleBlock__CardInfoItem-sc-1avkvav-9 cKZZql\">Terrace</p><div class=\"TitleBlock__BerContainer-sc-1avkvav-11 iXTpuT\"><img alt=\"\" data-testid=\"ber-image\" src=\"https://hermes.daft.ie/dsch-daft-frontend/1.0.1669917502/static/images/ber/SI_666.svg\" class=\"TitleBlock__Ber-sc-1avkvav-7 iDkita\"></div></div><div data-testid=\"callout-container\" class=\"TitleBlock__CardExtraInfo-sc-1avkvav-3 iZAQwx\"><span data-testid=\"agent-name\" class=\"TitleBlock__AgentNameTextWrapper-sc-1avkvav-2 izFGQg\">MoveHome Estate &amp; Letting Agent</span></div></div></div></div>"
   ]
  },
  {
   "cell_type": "code",
   "execution_count": null,
   "metadata": {},
   "outputs": [],
   "source": [
    "# <span class=\"TitleBlock__StyledSpan-sc-1avkvav-5 fKAzIL\">€3,000,000 </span>\n",
    "\n",
    "# <span class=\"TitleBlock__StyledSpan-sc-1avkvav-5 fKAzIL\">€10,000,000 </span>"
   ]
  },
  {
   "cell_type": "code",
   "execution_count": null,
   "metadata": {},
   "outputs": [],
   "source": [
    "all_data = []\n",
    "\n",
    "# do something 3 times\n",
    "for _ in range(3): \n",
    "\n",
    "    html = await page.content()\n",
    "    \n",
    "    doc = BeautifulSoup(html)\n",
    "\n",
    "    # content card returns a list with the block of information for each listing \n",
    "    content_card = doc.find_all(attrs={\"class\": [\"Cardstyled__TitleBlockWrapper-nngi4q-4\",\"eMeJos\"]})\n",
    "    \n",
    "    # go through each of these to get the listing properties\n",
    "    for card in content_card:\n",
    "        listing = {}\n",
    "        listing[\"price\"] = card.find(attrs={\"class\": [\"TitleBlock__StyledSpan-sc-1avkvav-5\",\"fKAzIL\"]}).string\n",
    "        listing[\"address\"] = card.find(attrs={\"class\": [\"TitleBlock__Address-sc-1avkvav-8\", \"dzihyY\"]}).string\n",
    "        listing[\"bedrooms\"] = card.find(attrs={\"class\": [\"TitleBlock__CardInfoItem-sc-1avkvav-9\", \"iLMdur\"], \"data-testid\": \"beds\"}).string\n",
    "        listing[\"bathrooms\"] = card.find(attrs={\"class\": [\"TitleBlock__CardInfoItem-sc-1avkvav-9\", \"iLMdur\"], \"data-testid\": \"baths\"}).string\n",
    "        \n",
    "        #listing[\"floor_area\"] = card.find(attrs={\"class\": [\"TitleBlock__CardInfoItem-sc-1avkvav-9\", \"iLMdur\"], \"data-testid\": \"floor-area\"}).string\n",
    "\n",
    "        all_data.append(listing)        \n",
    "    \n",
    "#     await page.get_by_text(\"Next >\").click()"
   ]
  },
  {
   "cell_type": "code",
   "execution_count": null,
   "metadata": {},
   "outputs": [],
   "source": [
    "# everything below is about the secret API and the easier way to do it "
   ]
  },
  {
   "cell_type": "code",
   "execution_count": null,
   "metadata": {},
   "outputs": [],
   "source": [
    "# import requests\n",
    "\n",
    "# headers = {\n",
    "#     'authority': 'gateway.daft.ie',\n",
    "#     'accept': 'application/json',\n",
    "#     'accept-language': 'en-US,en;q=0.9',\n",
    "#     'brand': 'daft',\n",
    "#     'cache-control': 'no-cache, no-store',\n",
    "#     'content-type': 'application/json',\n",
    "#     'expires': '0',\n",
    "#     'origin': 'https://www.daft.ie',\n",
    "#     'platform': 'web',\n",
    "#     'pragma': 'no-cache',\n",
    "#     'referer': 'https://www.daft.ie/',\n",
    "#     'sec-ch-ua': '\"Not?A_Brand\";v=\"8\", \"Chromium\";v=\"108\", \"Google Chrome\";v=\"108\"',\n",
    "#     'sec-ch-ua-mobile': '?0',\n",
    "#     'sec-ch-ua-platform': '\"macOS\"',\n",
    "#     'sec-fetch-dest': 'empty',\n",
    "#     'sec-fetch-mode': 'cors',\n",
    "#     'sec-fetch-site': 'same-site',\n",
    "#     'user-agent': 'Mozilla/5.0 (Macintosh; Intel Mac OS X 10_15_7) AppleWebKit/537.36 (KHTML, like Gecko) Chrome/108.0.0.0 Safari/537.36',\n",
    "# }\n",
    "\n",
    "# json_data = {\n",
    "#     'section': 'residential-for-sale',\n",
    "#     'filters': [\n",
    "#         {\n",
    "#             'name': 'adState',\n",
    "#             'values': [\n",
    "#                 'published',\n",
    "#             ],\n",
    "#         },\n",
    "#     ],\n",
    "#     'andFilters': [],\n",
    "#     'ranges': [],\n",
    "#     'paging': {\n",
    "#         'from': '20',\n",
    "#         'pageSize': '20',\n",
    "#     },\n",
    "#     'geoFilter': {\n",
    "#         'storedShapeIds': [\n",
    "#             '1',\n",
    "#         ],\n",
    "#         'geoSearchType': 'STORED_SHAPES',\n",
    "#     },\n",
    "#     'terms': '',\n",
    "# }\n",
    "\n",
    "# response = requests.post('https://gateway.daft.ie/old/v1/listings', headers=headers, json=json_data)\n",
    "\n",
    "# # Note: json_data will not be serialized by requests\n",
    "# # exactly as it was in the original request.\n",
    "# #data = '{\"section\":\"residential-for-sale\",\"filters\":[{\"name\":\"adState\",\"values\":[\"published\"]}],\"andFilters\":[],\"ranges\":[],\"paging\":{\"from\":\"20\",\"pageSize\":\"20\"},\"geoFilter\":{\"storedShapeIds\":[\"1\"],\"geoSearchType\":\"STORED_SHAPES\"},\"terms\":\"\"}'\n",
    "# #response = requests.post('https://gateway.daft.ie/old/v1/listings', headers=headers, data=data)"
   ]
  },
  {
   "cell_type": "code",
   "execution_count": null,
   "metadata": {},
   "outputs": [],
   "source": [
    "# import requests\n",
    "\n",
    "# headers = {\n",
    "#     'authority': 'gateway.daft.ie',\n",
    "#     'accept': 'application/json',\n",
    "#     'accept-language': 'en-US,en;q=0.9',\n",
    "#     'brand': 'daft',\n",
    "#     'cache-control': 'no-cache, no-store',\n",
    "#     'content-type': 'application/json',\n",
    "#     'expires': '0',\n",
    "#     'origin': 'https://www.daft.ie',\n",
    "#     'platform': 'web',\n",
    "#     'pragma': 'no-cache',\n",
    "#     'referer': 'https://www.daft.ie/',\n",
    "#     'sec-ch-ua': '\"Not?A_Brand\";v=\"8\", \"Chromium\";v=\"108\", \"Google Chrome\";v=\"108\"',\n",
    "#     'sec-ch-ua-mobile': '?0',\n",
    "#     'sec-ch-ua-platform': '\"macOS\"',\n",
    "#     'sec-fetch-dest': 'empty',\n",
    "#     'sec-fetch-mode': 'cors',\n",
    "#     'sec-fetch-site': 'same-site',\n",
    "#     'user-agent': 'Mozilla/5.0 (Macintosh; Intel Mac OS X 10_15_7) AppleWebKit/537.36 (KHTML, like Gecko) Chrome/108.0.0.0 Safari/537.36',\n",
    "# }\n",
    "\n",
    "# json_data = {\n",
    "#     'section': 'residential-for-sale',\n",
    "#     'filters': [\n",
    "#         {\n",
    "#             'name': 'adState',\n",
    "#             'values': [\n",
    "#                 'published',\n",
    "#             ],\n",
    "#         },\n",
    "#     ],\n",
    "#     'andFilters': [],\n",
    "#     'ranges': [],\n",
    "#     'paging': {\n",
    "#         'from': '0',\n",
    "#         'pageSize': '50',\n",
    "#     },\n",
    "#     'geoFilter': {\n",
    "#         'storedShapeIds': [\n",
    "#             '1',\n",
    "#         ],\n",
    "#         'geoSearchType': 'STORED_SHAPES',\n",
    "#     },\n",
    "#     'terms': '',\n",
    "# }\n",
    "\n",
    "# response = requests.post('https://gateway.daft.ie/old/v1/listings', headers=headers, json=json_data)\n",
    "\n",
    "# # Note: json_data will not be serialized by requests\n",
    "# # exactly as it was in the original request.\n",
    "# #data = '{\"section\":\"residential-for-sale\",\"filters\":[{\"name\":\"adState\",\"values\":[\"published\"]}],\"andFilters\":[],\"ranges\":[],\"paging\":{\"from\":\"20\",\"pageSize\":\"20\"},\"geoFilter\":{\"storedShapeIds\":[\"1\"],\"geoSearchType\":\"STORED_SHAPES\"},\"terms\":\"\"}'\n",
    "# #response = requests.post('https://gateway.daft.ie/old/v1/listings', headers=headers, data=data)"
   ]
  },
  {
   "cell_type": "code",
   "execution_count": null,
   "metadata": {},
   "outputs": [],
   "source": [
    "# data = response.json()"
   ]
  },
  {
   "cell_type": "code",
   "execution_count": null,
   "metadata": {},
   "outputs": [],
   "source": [
    "# data"
   ]
  },
  {
   "cell_type": "code",
   "execution_count": null,
   "metadata": {},
   "outputs": [],
   "source": [
    "# len(data[\"listings\"])"
   ]
  },
  {
   "cell_type": "code",
   "execution_count": null,
   "metadata": {},
   "outputs": [],
   "source": [
    "# browser.close()"
   ]
  }
 ],
 "metadata": {
  "kernelspec": {
   "display_name": "Python 3",
   "language": "python",
   "name": "python3"
  },
  "language_info": {
   "codemirror_mode": {
    "name": "ipython",
    "version": 3
   },
   "file_extension": ".py",
   "mimetype": "text/x-python",
   "name": "python",
   "nbconvert_exporter": "python",
   "pygments_lexer": "ipython3",
   "version": "3.8.3"
  },
  "vscode": {
   "interpreter": {
    "hash": "fe0c711aca5bf7c6cedcd19352a1a05a1084bba66d33e75f0bd7fcc1c5e9be77"
   }
  }
 },
 "nbformat": 4,
 "nbformat_minor": 2
}
