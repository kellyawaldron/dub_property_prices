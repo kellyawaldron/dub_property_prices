{
 "cells": [
  {
   "cell_type": "code",
   "execution_count": 1,
   "metadata": {},
   "outputs": [],
   "source": [
    "from playwright.async_api import async_playwright"
   ]
  },
  {
   "cell_type": "code",
   "execution_count": 2,
   "metadata": {},
   "outputs": [],
   "source": [
    "playwright = await async_playwright().start()"
   ]
  },
  {
   "cell_type": "code",
   "execution_count": 3,
   "metadata": {},
   "outputs": [],
   "source": [
    "browser = await playwright.chromium.launch(headless = False)"
   ]
  },
  {
   "cell_type": "code",
   "execution_count": 4,
   "metadata": {},
   "outputs": [],
   "source": [
    "page = await browser.new_page()"
   ]
  },
  {
   "cell_type": "code",
   "execution_count": 6,
   "metadata": {},
   "outputs": [
    {
     "data": {
      "text/plain": [
       "<Response url='https://www.myhome.ie/' request=<Request url='https://www.myhome.ie/' method='GET'>>"
      ]
     },
     "execution_count": 6,
     "metadata": {},
     "output_type": "execute_result"
    }
   ],
   "source": [
    "await page.goto(\"https://www.myhome.ie/\")"
   ]
  },
  {
   "cell_type": "code",
   "execution_count": 8,
   "metadata": {},
   "outputs": [],
   "source": [
    "try: \n",
    "    await page.click(\"xpath=//html/body/div[2]/div[2]/div/div/div[2]/div/div/button\")\n",
    "except:\n",
    "    pass"
   ]
  },
  {
   "cell_type": "code",
   "execution_count": 9,
   "metadata": {},
   "outputs": [],
   "source": [
    "await page.click(\"xpath=//html/body/app-root/mat-sidenav-container/mat-sidenav-content/main/app-home-container/app-desktop-home/div/div/div[1]/div/div[2]/app-home-page-search-container/div/app-residential-search-form/div/div[1]/div[1]/app-mh-dropdown/div/button\")"
   ]
  },
  {
   "cell_type": "code",
   "execution_count": 11,
   "metadata": {},
   "outputs": [],
   "source": [
    "await page.click(\"xpath=//html/body/app-root/mat-sidenav-container/mat-sidenav-content/main/app-home-container/app-desktop-home/div/div/div[1]/div/div[2]/app-home-page-search-container/div/app-residential-search-form/div/div[1]/div[1]/app-mh-dropdown/div/div/div[2]/div[10]\")"
   ]
  },
  {
   "cell_type": "code",
   "execution_count": 12,
   "metadata": {},
   "outputs": [],
   "source": [
    "await page.click(\"xpath=//html/body/app-root/mat-sidenav-container/mat-sidenav-content/main/app-home-container/app-desktop-home/div/div/div[1]/div/div[2]/app-home-page-search-container/div/app-residential-search-form/div/div[1]/div[5]/div/app-mh-button/button\")"
   ]
  },
  {
   "cell_type": "code",
   "execution_count": 15,
   "metadata": {},
   "outputs": [],
   "source": [
    "try: \n",
    "    await page.click(\"xpath=//html/body/app-mh-modal/div[2]/div[2]/div[1]/div/app-mh-icon/div\")\n",
    "except: \n",
    "    pass"
   ]
  },
  {
   "cell_type": "code",
   "execution_count": null,
   "metadata": {},
   "outputs": [],
   "source": []
  }
 ],
 "metadata": {
  "kernelspec": {
   "display_name": "Python 3",
   "language": "python",
   "name": "python3"
  },
  "language_info": {
   "codemirror_mode": {
    "name": "ipython",
    "version": 3
   },
   "file_extension": ".py",
   "mimetype": "text/x-python",
   "name": "python",
   "nbconvert_exporter": "python",
   "pygments_lexer": "ipython3",
   "version": "3.8.3"
  }
 },
 "nbformat": 4,
 "nbformat_minor": 4
}
