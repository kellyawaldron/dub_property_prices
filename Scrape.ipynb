{
 "cells": [
  {
   "cell_type": "markdown",
   "metadata": {},
   "source": [
    "# Scraping property listings \n",
    "\n",
    "### This notebook is to scrape all the listings for properties for sale on Daft.ie "
   ]
  },
  {
   "cell_type": "code",
   "execution_count": 1,
   "metadata": {},
   "outputs": [],
   "source": [
    "from playwright.async_api import async_playwright"
   ]
  },
  {
   "cell_type": "code",
   "execution_count": 2,
   "metadata": {},
   "outputs": [],
   "source": [
    "playwright = await async_playwright().start()"
   ]
  },
  {
   "cell_type": "code",
   "execution_count": 3,
   "metadata": {},
   "outputs": [],
   "source": [
    "browser = await playwright.chromium.launch(headless = False)"
   ]
  },
  {
   "cell_type": "code",
   "execution_count": 4,
   "metadata": {},
   "outputs": [],
   "source": [
    "page = await browser.new_page()"
   ]
  },
  {
   "cell_type": "code",
   "execution_count": 5,
   "metadata": {},
   "outputs": [
    {
     "data": {
      "text/plain": [
       "<Response url='https://www.daft.ie/' request=<Request url='https://www.daft.ie/' method='GET'>>"
      ]
     },
     "execution_count": 5,
     "metadata": {},
     "output_type": "execute_result"
    }
   ],
   "source": [
    "await page.goto(\"https://www.daft.ie/\")"
   ]
  },
  {
   "cell_type": "code",
   "execution_count": 6,
   "metadata": {},
   "outputs": [],
   "source": [
    "# press accept on that message\n",
    "try: \n",
    "    await page.click(\"xpath=/html/body/div[1]/div/div/main/div/button[2]\", timeout=1000)\n",
    "except:\n",
    "    pass"
   ]
  },
  {
   "cell_type": "code",
   "execution_count": 7,
   "metadata": {},
   "outputs": [
    {
     "data": {
      "text/plain": [
       "<Response url='https://www.daft.ie/property-for-sale/dublin' request=<Request url='https://www.daft.ie/property-for-sale/dublin' method='GET'>>"
      ]
     },
     "execution_count": 7,
     "metadata": {},
     "output_type": "execute_result"
    }
   ],
   "source": [
    "await page.goto(\"https://www.daft.ie/property-for-sale/dublin\")"
   ]
  },
  {
   "cell_type": "code",
   "execution_count": 8,
   "metadata": {},
   "outputs": [],
   "source": [
    "# close another pop up that sometimes comes up \n",
    "try:\n",
    "    await page.click(\"xpath=/html/body/div[5]/div/div/div/div/button/span\", timeout=1000)\n",
    "except: \n",
    "    pass"
   ]
  },
  {
   "cell_type": "code",
   "execution_count": 9,
   "metadata": {},
   "outputs": [],
   "source": [
    "# close another pop up that sometimes comes up \n",
    "try: \n",
    "    await page.click(\"xpath=//html/body/div[5]/div/div/div[1]/button\", timeout=1000)\n",
    "except:\n",
    "    pass"
   ]
  },
  {
   "cell_type": "code",
   "execution_count": 10,
   "metadata": {},
   "outputs": [],
   "source": [
    "import pandas as pd\n"
   ]
  },
  {
   "cell_type": "code",
   "execution_count": 11,
   "metadata": {},
   "outputs": [],
   "source": [
    "from bs4 import BeautifulSoup"
   ]
  },
  {
   "cell_type": "code",
   "execution_count": 12,
   "metadata": {},
   "outputs": [],
   "source": [
    "html = await page.content()\n",
    "doc = BeautifulSoup(html)"
   ]
  },
  {
   "cell_type": "code",
   "execution_count": 13,
   "metadata": {},
   "outputs": [
    {
     "data": {
      "text/plain": [
       "[<div class=\"Cardstyled__TitleBlockWrapper-nngi4q-4 eMeJos\"><div data-testid=\"title-block\"><div class=\"TitleBlock__Price-sc-1avkvav-4 hiFkJc\" data-testid=\"price\"><span class=\"TitleBlock__StyledSpan-sc-1avkvav-5 fKAzIL\">€3,000,000<!-- --> </span></div><p class=\"TitleBlock__Address-sc-1avkvav-8 dzihyY\" data-testid=\"address\">7 Henrietta Street, Dublin 1</p><div class=\"TitleBlock__CardInfo-sc-1avkvav-10 iCjViR\" data-testid=\"card-info\"><p class=\"TitleBlock__CardInfoItem-sc-1avkvav-9 iLMdur\" data-testid=\"beds\">6 Bed</p><p class=\"TitleBlock__CardInfoItem-sc-1avkvav-9 iLMdur\" data-testid=\"baths\">7 Bath</p><p class=\"TitleBlock__CardInfoItem-sc-1avkvav-9 iLMdur\" data-testid=\"floor-area\">763 m²</p><p class=\"TitleBlock__CardInfoItem-sc-1avkvav-9 cKZZql\" data-testid=\"property-type\">Terrace</p><div class=\"TitleBlock__BerContainer-sc-1avkvav-11 iXTpuT\"><img alt=\"\" class=\"TitleBlock__Ber-sc-1avkvav-7 iDkita\" data-testid=\"ber-image\" src=\"https://hermes.daft.ie/dsch-daft-frontend/1.0.1670857707/static/images/ber/SI_666.svg\"/></div></div><div class=\"TitleBlock__CardExtraInfo-sc-1avkvav-3 iZAQwx\" data-testid=\"callout-container\"><span class=\"TitleBlock__AgentNameTextWrapper-sc-1avkvav-2 izFGQg\" data-testid=\"agent-name\">MoveHome Estate &amp; Letting Agent</span></div></div></div>,\n",
       " <div class=\"Cardstyled__TitleBlockWrapper-nngi4q-4 eMeJos\"><div data-testid=\"title-block\"><div class=\"TitleBlock__Price-sc-1avkvav-4 hiFkJc\" data-testid=\"price\"><span class=\"TitleBlock__StyledSpan-sc-1avkvav-5 fKAzIL\">€10,000,000<!-- --> </span></div><p class=\"TitleBlock__Address-sc-1avkvav-8 dzihyY\" data-testid=\"address\">Drumleck House, Ceanchor Road, Howth, Dublin 13</p><div class=\"TitleBlock__CardInfo-sc-1avkvav-10 iCjViR\" data-testid=\"card-info\"><p class=\"TitleBlock__CardInfoItem-sc-1avkvav-9 iLMdur\" data-testid=\"beds\">5 Bed</p><p class=\"TitleBlock__CardInfoItem-sc-1avkvav-9 iLMdur\" data-testid=\"baths\">5 Bath</p><p class=\"TitleBlock__CardInfoItem-sc-1avkvav-9 iLMdur\" data-testid=\"floor-area\">781 m²</p><p class=\"TitleBlock__CardInfoItem-sc-1avkvav-9 cKZZql\" data-testid=\"property-type\">Detached</p><div class=\"TitleBlock__BerContainer-sc-1avkvav-11 iXTpuT\"><img alt=\"\" class=\"TitleBlock__Ber-sc-1avkvav-7 iDkita\" data-testid=\"ber-image\" src=\"https://hermes.daft.ie/dsch-daft-frontend/1.0.1670857707/static/images/fallbacks/BerPlaceholder.png\"/></div></div><div class=\"TitleBlock__CardExtraInfo-sc-1avkvav-3 iZAQwx\" data-testid=\"callout-container\"><span class=\"TitleBlock__AgentNameTextWrapper-sc-1avkvav-2 izFGQg\" data-testid=\"agent-name\">Gallagher Quigley</span></div></div></div>,\n",
       " <div class=\"Cardstyled__TitleBlockWrapper-nngi4q-4 eMeJos\"><div data-testid=\"title-block\"><div class=\"TitleBlock__Price-sc-1avkvav-4 hiFkJc\" data-testid=\"price\"><span class=\"TitleBlock__StyledSpan-sc-1avkvav-5 fKAzIL\">€875,000<!-- --> </span></div><p class=\"TitleBlock__Address-sc-1avkvav-8 dzihyY\" data-testid=\"address\">13 Inverness Road, Fairview, Fairview, Dublin 3</p><div class=\"TitleBlock__CardInfo-sc-1avkvav-10 iCjViR\" data-testid=\"card-info\"><p class=\"TitleBlock__CardInfoItem-sc-1avkvav-9 iLMdur\" data-testid=\"beds\">4 Bed</p><p class=\"TitleBlock__CardInfoItem-sc-1avkvav-9 iLMdur\" data-testid=\"baths\">3 Bath</p><p class=\"TitleBlock__CardInfoItem-sc-1avkvav-9 iLMdur\" data-testid=\"floor-area\">200 m²</p><p class=\"TitleBlock__CardInfoItem-sc-1avkvav-9 cKZZql\" data-testid=\"property-type\">Terrace</p><div class=\"TitleBlock__BerContainer-sc-1avkvav-11 iXTpuT\"><img alt=\"\" class=\"TitleBlock__Ber-sc-1avkvav-7 iDkita\" data-testid=\"ber-image\" src=\"https://hermes.daft.ie/dsch-daft-frontend/1.0.1670857707/static/images/fallbacks/BerPlaceholder.png\"/></div></div><div class=\"TitleBlock__CardExtraInfo-sc-1avkvav-3 iZAQwx\" data-testid=\"callout-container\"><span class=\"TitleBlock__AgentNameTextWrapper-sc-1avkvav-2 izFGQg\" data-testid=\"agent-name\">MoveHome Estate &amp; Letting Agent</span></div></div></div>,\n",
       " <div class=\"Cardstyled__TitleBlockWrapper-nngi4q-4 eMeJos\"><div data-testid=\"title-block\"><div class=\"TitleBlock__Price-sc-1avkvav-4 hiFkJc\" data-testid=\"price\"><span class=\"TitleBlock__StyledSpan-sc-1avkvav-5 fKAzIL\">€895,000<!-- --> </span></div><p class=\"TitleBlock__Address-sc-1avkvav-8 dzihyY\" data-testid=\"address\">3 Ballymun Road, Glasnevin, Dublin 9</p><div class=\"TitleBlock__CardInfo-sc-1avkvav-10 iCjViR\" data-testid=\"card-info\"><p class=\"TitleBlock__CardInfoItem-sc-1avkvav-9 iLMdur\" data-testid=\"beds\">4 Bed</p><p class=\"TitleBlock__CardInfoItem-sc-1avkvav-9 iLMdur\" data-testid=\"baths\">2 Bath</p><p class=\"TitleBlock__CardInfoItem-sc-1avkvav-9 iLMdur\" data-testid=\"floor-area\">152 m²</p><p class=\"TitleBlock__CardInfoItem-sc-1avkvav-9 cKZZql\" data-testid=\"property-type\">Detached</p><div class=\"TitleBlock__BerContainer-sc-1avkvav-11 iXTpuT\"><img alt=\"\" class=\"TitleBlock__Ber-sc-1avkvav-7 iDkita\" data-testid=\"ber-image\" src=\"https://hermes.daft.ie/dsch-daft-frontend/1.0.1670857707/static/images/fallbacks/BerPlaceholder.png\"/></div></div><div class=\"TitleBlock__CardExtraInfo-sc-1avkvav-3 iZAQwx\" data-testid=\"callout-container\"><span class=\"TitleBlock__AgentNameTextWrapper-sc-1avkvav-2 izFGQg\" data-testid=\"agent-name\">MoveHome Estate &amp; Letting Agent</span></div></div></div>,\n",
       " <div class=\"Cardstyled__TitleBlockWrapper-nngi4q-4 eMeJos\"><div data-testid=\"title-block\"><div class=\"TitleBlock__Price-sc-1avkvav-4 hiFkJc\" data-testid=\"price\"><span class=\"TitleBlock__StyledSpan-sc-1avkvav-5 fKAzIL\">€875,000<!-- --> </span></div><p class=\"TitleBlock__Address-sc-1avkvav-8 dzihyY\" data-testid=\"address\">Filmar, 2 Wansdowne, Blackrock, Co. Dublin</p><div class=\"TitleBlock__CardInfo-sc-1avkvav-10 iCjViR\" data-testid=\"card-info\"><p class=\"TitleBlock__CardInfoItem-sc-1avkvav-9 iLMdur\" data-testid=\"beds\">4 Bed</p><p class=\"TitleBlock__CardInfoItem-sc-1avkvav-9 iLMdur\" data-testid=\"baths\">2 Bath</p><p class=\"TitleBlock__CardInfoItem-sc-1avkvav-9 iLMdur\" data-testid=\"floor-area\">154 m²</p><p class=\"TitleBlock__CardInfoItem-sc-1avkvav-9 cKZZql\" data-testid=\"property-type\">Detached</p><div class=\"TitleBlock__BerContainer-sc-1avkvav-11 iXTpuT\"><img alt=\"\" class=\"TitleBlock__Ber-sc-1avkvav-7 iDkita\" data-testid=\"ber-image\" src=\"https://hermes.daft.ie/dsch-daft-frontend/1.0.1670857707/static/images/fallbacks/BerPlaceholder.png\"/></div></div><div class=\"TitleBlock__CardExtraInfo-sc-1avkvav-3 iZAQwx\" data-testid=\"callout-container\"><span class=\"TitleBlock__AgentNameTextWrapper-sc-1avkvav-2 izFGQg\" data-testid=\"agent-name\">Janet Carroll Estate Agent</span></div></div></div>,\n",
       " <div class=\"Cardstyled__TitleBlockWrapper-nngi4q-4 eMeJos\"><div data-testid=\"title-block\"><div class=\"TitleBlock__Price-sc-1avkvav-4 hiFkJc\" data-testid=\"price\"><span class=\"TitleBlock__StyledSpan-sc-1avkvav-5 fKAzIL\">€975,000<!-- --> </span></div><p class=\"TitleBlock__Address-sc-1avkvav-8 dzihyY\" data-testid=\"address\">7 Oxford Road, Ranelagh, Ranelagh, Dublin 6</p><div class=\"TitleBlock__CardInfo-sc-1avkvav-10 iCjViR\" data-testid=\"card-info\"><p class=\"TitleBlock__CardInfoItem-sc-1avkvav-9 iLMdur\" data-testid=\"beds\">6 Bed</p><p class=\"TitleBlock__CardInfoItem-sc-1avkvav-9 iLMdur\" data-testid=\"baths\">6 Bath</p><p class=\"TitleBlock__CardInfoItem-sc-1avkvav-9 iLMdur\" data-testid=\"floor-area\">221 m²</p><p class=\"TitleBlock__CardInfoItem-sc-1avkvav-9 cKZZql\" data-testid=\"property-type\">End of Terrace</p><div class=\"TitleBlock__BerContainer-sc-1avkvav-11 iXTpuT\"><img alt=\"\" class=\"TitleBlock__Ber-sc-1avkvav-7 iDkita\" data-testid=\"ber-image\" src=\"https://hermes.daft.ie/dsch-daft-frontend/1.0.1670857707/static/images/fallbacks/BerPlaceholder.png\"/></div></div><div class=\"TitleBlock__CardExtraInfo-sc-1avkvav-3 iZAQwx\" data-testid=\"callout-container\"><span class=\"TitleBlock__TextWrapper-sc-1avkvav-0 hzldvs\" data-testid=\"virtual-tour\">Virtual Tour</span><span class=\"TitleBlock__AgentNameTextWrapper-sc-1avkvav-2 izFGQg\" data-testid=\"agent-name\">Bracken Estates</span></div></div></div>,\n",
       " <div class=\"Cardstyled__TitleBlockWrapper-nngi4q-4 eMeJos\"><div data-testid=\"title-block\"><div class=\"TitleBlock__Price-sc-1avkvav-4 hiFkJc\" data-testid=\"price\"><span class=\"TitleBlock__StyledSpan-sc-1avkvav-5 fKAzIL\">€545,000<!-- --> </span></div><p class=\"TitleBlock__Address-sc-1avkvav-8 dzihyY\" data-testid=\"address\">Tobersool Lane, Balbriggan, Co. Dublin</p><div class=\"TitleBlock__CardInfo-sc-1avkvav-10 iCjViR\" data-testid=\"card-info\"><p class=\"TitleBlock__CardInfoItem-sc-1avkvav-9 iLMdur\" data-testid=\"beds\">4 Bed</p><p class=\"TitleBlock__CardInfoItem-sc-1avkvav-9 iLMdur\" data-testid=\"baths\">2 Bath</p><p class=\"TitleBlock__CardInfoItem-sc-1avkvav-9 iLMdur\" data-testid=\"floor-area\">150 m²</p><p class=\"TitleBlock__CardInfoItem-sc-1avkvav-9 cKZZql\" data-testid=\"property-type\">Detached</p><div class=\"TitleBlock__BerContainer-sc-1avkvav-11 iXTpuT\"><img alt=\"\" class=\"TitleBlock__Ber-sc-1avkvav-7 iDkita\" data-testid=\"ber-image\" src=\"https://hermes.daft.ie/dsch-daft-frontend/1.0.1670857707/static/images/fallbacks/BerPlaceholder.png\"/></div></div><div class=\"TitleBlock__CardExtraInfo-sc-1avkvav-3 iZAQwx\" data-testid=\"callout-container\"><span class=\"TitleBlock__AgentNameTextWrapper-sc-1avkvav-2 izFGQg\" data-testid=\"agent-name\">DNG Wall Tuckey</span></div></div></div>,\n",
       " <div class=\"Cardstyled__TitleBlockWrapper-nngi4q-4 eMeJos\"><div data-testid=\"title-block\"><div class=\"TitleBlock__Price-sc-1avkvav-4 hiFkJc\" data-testid=\"price\"><span class=\"TitleBlock__StyledSpan-sc-1avkvav-5 fKAzIL\">€575,000<!-- --> </span></div><p class=\"TitleBlock__Address-sc-1avkvav-8 dzihyY\" data-testid=\"address\">1 Newtown Clarke Cottage, Old Lucan Road, Palmerstown, Dublin 20</p><div class=\"TitleBlock__CardInfo-sc-1avkvav-10 iCjViR\" data-testid=\"card-info\"><p class=\"TitleBlock__CardInfoItem-sc-1avkvav-9 iLMdur\" data-testid=\"beds\">3 Bed</p><p class=\"TitleBlock__CardInfoItem-sc-1avkvav-9 iLMdur\" data-testid=\"baths\">1 Bath</p><p class=\"TitleBlock__CardInfoItem-sc-1avkvav-9 iLMdur\" data-testid=\"floor-area\">105 m²</p><p class=\"TitleBlock__CardInfoItem-sc-1avkvav-9 cKZZql\" data-testid=\"property-type\">Bungalow</p><div class=\"TitleBlock__BerContainer-sc-1avkvav-11 iXTpuT\"><img alt=\"\" class=\"TitleBlock__Ber-sc-1avkvav-7 iDkita\" data-testid=\"ber-image\" src=\"https://hermes.daft.ie/dsch-daft-frontend/1.0.1670857707/static/images/fallbacks/BerPlaceholder.png\"/></div></div><div class=\"TitleBlock__CardExtraInfo-sc-1avkvav-3 iZAQwx\" data-testid=\"callout-container\"><span class=\"TitleBlock__AgentNameTextWrapper-sc-1avkvav-2 izFGQg\" data-testid=\"agent-name\">REA McDonald</span></div></div></div>,\n",
       " <div class=\"Cardstyled__TitleBlockWrapper-nngi4q-4 eMeJos\"><div data-testid=\"title-block\"><div class=\"TitleBlock__Price-sc-1avkvav-4 hiFkJc\" data-testid=\"price\"><span class=\"TitleBlock__StyledSpan-sc-1avkvav-5 fKAzIL\">€460,000<!-- --> </span></div><p class=\"TitleBlock__Address-sc-1avkvav-8 dzihyY\" data-testid=\"address\">48 Alderwood, Hollystown, Hollystown, Dublin 15</p><div class=\"TitleBlock__CardInfo-sc-1avkvav-10 iCjViR\" data-testid=\"card-info\"><p class=\"TitleBlock__CardInfoItem-sc-1avkvav-9 iLMdur\" data-testid=\"beds\">4 Bed</p><p class=\"TitleBlock__CardInfoItem-sc-1avkvav-9 iLMdur\" data-testid=\"baths\">4 Bath</p><p class=\"TitleBlock__CardInfoItem-sc-1avkvav-9 iLMdur\" data-testid=\"floor-area\">148 m²</p><p class=\"TitleBlock__CardInfoItem-sc-1avkvav-9 cKZZql\" data-testid=\"property-type\">Semi-D</p><div class=\"TitleBlock__BerContainer-sc-1avkvav-11 iXTpuT\"><img alt=\"\" class=\"TitleBlock__Ber-sc-1avkvav-7 iDkita\" data-testid=\"ber-image\" src=\"https://hermes.daft.ie/dsch-daft-frontend/1.0.1670857707/static/images/fallbacks/BerPlaceholder.png\"/></div></div><div class=\"TitleBlock__CardExtraInfo-sc-1avkvav-3 iZAQwx\" data-testid=\"callout-container\"><span class=\"TitleBlock__AgentNameTextWrapper-sc-1avkvav-2 izFGQg\" data-testid=\"agent-name\">McPeake Auctioneers</span></div></div></div>,\n",
       " <div class=\"Cardstyled__TitleBlockWrapper-nngi4q-4 eMeJos\"><div data-testid=\"title-block\"><div class=\"TitleBlock__Price-sc-1avkvav-4 hiFkJc\" data-testid=\"price\"><span class=\"TitleBlock__StyledSpan-sc-1avkvav-5 fKAzIL\">€550,000<!-- --> </span></div><p class=\"TitleBlock__Address-sc-1avkvav-8 dzihyY\" data-testid=\"address\">5 Cedar Cottages, Linden Grove, Blackrock, Co. Dublin</p><div class=\"TitleBlock__CardInfo-sc-1avkvav-10 iCjViR\" data-testid=\"card-info\"><p class=\"TitleBlock__CardInfoItem-sc-1avkvav-9 iLMdur\" data-testid=\"beds\">2 Bed</p><p class=\"TitleBlock__CardInfoItem-sc-1avkvav-9 iLMdur\" data-testid=\"baths\">1 Bath</p><p class=\"TitleBlock__CardInfoItem-sc-1avkvav-9 iLMdur\" data-testid=\"floor-area\">72 m²</p><p class=\"TitleBlock__CardInfoItem-sc-1avkvav-9 cKZZql\" data-testid=\"property-type\">End of Terrace</p><div class=\"TitleBlock__BerContainer-sc-1avkvav-11 iXTpuT\"><img alt=\"\" class=\"TitleBlock__Ber-sc-1avkvav-7 iDkita\" data-testid=\"ber-image\" src=\"https://hermes.daft.ie/dsch-daft-frontend/1.0.1670857707/static/images/fallbacks/BerPlaceholder.png\"/></div></div><div class=\"TitleBlock__CardExtraInfo-sc-1avkvav-3 iZAQwx\" data-testid=\"callout-container\"><span class=\"TitleBlock__AgentNameTextWrapper-sc-1avkvav-2 izFGQg\" data-testid=\"agent-name\">Janet Carroll Estate Agent</span></div></div></div>,\n",
       " <div class=\"Cardstyled__TitleBlockWrapper-nngi4q-4 eMeJos\"><div data-testid=\"title-block\"><div class=\"TitleBlock__Price-sc-1avkvav-4 hiFkJc\" data-testid=\"price\"><span class=\"TitleBlock__StyledSpan-sc-1avkvav-5 fKAzIL\">€995,000<!-- --> </span></div><p class=\"TitleBlock__Address-sc-1avkvav-8 dzihyY\" data-testid=\"address\">28 Leeson Park Avenue, Ranelagh, Ranelagh, Dublin 6</p><div class=\"TitleBlock__CardInfo-sc-1avkvav-10 iCjViR\" data-testid=\"card-info\"><p class=\"TitleBlock__CardInfoItem-sc-1avkvav-9 iLMdur\" data-testid=\"beds\">2 Bed</p><p class=\"TitleBlock__CardInfoItem-sc-1avkvav-9 iLMdur\" data-testid=\"baths\">2 Bath</p><p class=\"TitleBlock__CardInfoItem-sc-1avkvav-9 iLMdur\" data-testid=\"floor-area\">143 m²</p><p class=\"TitleBlock__CardInfoItem-sc-1avkvav-9 cKZZql\" data-testid=\"property-type\">Terrace</p><div class=\"TitleBlock__BerContainer-sc-1avkvav-11 iXTpuT\"><img alt=\"\" class=\"TitleBlock__Ber-sc-1avkvav-7 iDkita\" data-testid=\"ber-image\" src=\"https://hermes.daft.ie/dsch-daft-frontend/1.0.1670857707/static/images/fallbacks/BerPlaceholder.png\"/></div></div><div class=\"TitleBlock__CardExtraInfo-sc-1avkvav-3 iZAQwx\" data-testid=\"callout-container\"><span class=\"TitleBlock__AgentNameTextWrapper-sc-1avkvav-2 izFGQg\" data-testid=\"agent-name\">Bergins Property Consultants</span></div></div></div>,\n",
       " <div class=\"Cardstyled__TitleBlockWrapper-nngi4q-4 eMeJos\"><div data-testid=\"title-block\"><div class=\"TitleBlock__Price-sc-1avkvav-4 hiFkJc\" data-testid=\"price\"><span class=\"TitleBlock__StyledSpan-sc-1avkvav-5 fKAzIL\">€1,475,000<!-- --> </span></div><p class=\"TitleBlock__Address-sc-1avkvav-8 dzihyY\" data-testid=\"address\">Fern House, 126, Ranelagh, Dublin 6</p><div class=\"TitleBlock__CardInfo-sc-1avkvav-10 iCjViR\" data-testid=\"card-info\"><p class=\"TitleBlock__CardInfoItem-sc-1avkvav-9 iLMdur\" data-testid=\"beds\">5 Bed</p><p class=\"TitleBlock__CardInfoItem-sc-1avkvav-9 iLMdur\" data-testid=\"baths\">2 Bath</p><p class=\"TitleBlock__CardInfoItem-sc-1avkvav-9 iLMdur\" data-testid=\"floor-area\">265 m²</p><p class=\"TitleBlock__CardInfoItem-sc-1avkvav-9 cKZZql\" data-testid=\"property-type\">Terrace</p><div class=\"TitleBlock__BerContainer-sc-1avkvav-11 iXTpuT\"><img alt=\"\" class=\"TitleBlock__Ber-sc-1avkvav-7 iDkita\" data-testid=\"ber-image\" src=\"https://hermes.daft.ie/dsch-daft-frontend/1.0.1670857707/static/images/fallbacks/BerPlaceholder.png\"/></div></div><div class=\"TitleBlock__CardExtraInfo-sc-1avkvav-3 iZAQwx\" data-testid=\"callout-container\"><span class=\"TitleBlock__AgentNameTextWrapper-sc-1avkvav-2 izFGQg\" data-testid=\"agent-name\">Sherry FitzGerald Ranelagh</span></div></div></div>,\n",
       " <div class=\"Cardstyled__TitleBlockWrapper-nngi4q-4 eMeJos\"><div data-testid=\"title-block\"><div class=\"TitleBlock__Price-sc-1avkvav-4 hiFkJc\" data-testid=\"price\"><span class=\"TitleBlock__StyledSpan-sc-1avkvav-5 fKAzIL\">€545,000<!-- --> </span></div><p class=\"TitleBlock__Address-sc-1avkvav-8 dzihyY\" data-testid=\"address\">17 O'Donovan Road, South Circular Road, South Circular Road, Dublin 8</p><div class=\"TitleBlock__CardInfo-sc-1avkvav-10 iCjViR\" data-testid=\"card-info\"><p class=\"TitleBlock__CardInfoItem-sc-1avkvav-9 iLMdur\" data-testid=\"beds\">3 Bed</p><p class=\"TitleBlock__CardInfoItem-sc-1avkvav-9 iLMdur\" data-testid=\"baths\">2 Bath</p><p class=\"TitleBlock__CardInfoItem-sc-1avkvav-9 iLMdur\" data-testid=\"floor-area\">100 m²</p><p class=\"TitleBlock__CardInfoItem-sc-1avkvav-9 cKZZql\" data-testid=\"property-type\">End of Terrace</p><div class=\"TitleBlock__BerContainer-sc-1avkvav-11 iXTpuT\"><img alt=\"\" class=\"TitleBlock__Ber-sc-1avkvav-7 iDkita\" data-testid=\"ber-image\" src=\"https://hermes.daft.ie/dsch-daft-frontend/1.0.1670857707/static/images/fallbacks/BerPlaceholder.png\"/></div></div><div class=\"TitleBlock__CardExtraInfo-sc-1avkvav-3 iZAQwx\" data-testid=\"callout-container\"><span class=\"TitleBlock__TextWrapper-sc-1avkvav-0 hzldvs\" data-testid=\"virtual-tour\">Virtual Tour</span><span class=\"TitleBlock__AgentNameTextWrapper-sc-1avkvav-2 izFGQg\" data-testid=\"agent-name\">Mullery O'Gara Estate Agents</span></div></div></div>,\n",
       " <div class=\"Cardstyled__TitleBlockWrapper-nngi4q-4 eMeJos\"><div data-testid=\"title-block\"><div class=\"TitleBlock__Price-sc-1avkvav-4 hiFkJc\" data-testid=\"price\"><span class=\"TitleBlock__StyledSpan-sc-1avkvav-5 fKAzIL\">€895,000<!-- --> </span></div><p class=\"TitleBlock__Address-sc-1avkvav-8 dzihyY\" data-testid=\"address\">Donerea, Balscadden, Balbriggan, Co. Dublin</p><div class=\"TitleBlock__CardInfo-sc-1avkvav-10 iCjViR\" data-testid=\"card-info\"><p class=\"TitleBlock__CardInfoItem-sc-1avkvav-9 iLMdur\" data-testid=\"beds\">5 Bed</p><p class=\"TitleBlock__CardInfoItem-sc-1avkvav-9 iLMdur\" data-testid=\"baths\">3 Bath</p><p class=\"TitleBlock__CardInfoItem-sc-1avkvav-9 iLMdur\" data-testid=\"floor-area\">264 m²</p><p class=\"TitleBlock__CardInfoItem-sc-1avkvav-9 cKZZql\" data-testid=\"property-type\">Detached</p><div class=\"TitleBlock__BerContainer-sc-1avkvav-11 iXTpuT\"><img alt=\"\" class=\"TitleBlock__Ber-sc-1avkvav-7 iDkita\" data-testid=\"ber-image\" src=\"https://hermes.daft.ie/dsch-daft-frontend/1.0.1670857707/static/images/fallbacks/BerPlaceholder.png\"/></div></div><div class=\"TitleBlock__CardExtraInfo-sc-1avkvav-3 iZAQwx\" data-testid=\"callout-container\"><span class=\"TitleBlock__AgentNameTextWrapper-sc-1avkvav-2 izFGQg\" data-testid=\"agent-name\">Sherry Fitzgerald Cumisky Kelly</span></div></div></div>,\n",
       " <div class=\"Cardstyled__TitleBlockWrapper-nngi4q-4 eMeJos\"><div data-testid=\"title-block\"><div class=\"TitleBlock__Price-sc-1avkvav-4 hiFkJc\" data-testid=\"price\"><span class=\"TitleBlock__StyledSpan-sc-1avkvav-5 fKAzIL\">€2,495,000<!-- --> </span></div><p class=\"TitleBlock__Address-sc-1avkvav-8 dzihyY\" data-testid=\"address\">86 Kincora Road, Clontarf, Clontarf, Dublin 3</p><div class=\"TitleBlock__CardInfo-sc-1avkvav-10 iCjViR\" data-testid=\"card-info\"><p class=\"TitleBlock__CardInfoItem-sc-1avkvav-9 iLMdur\" data-testid=\"beds\">4 Bed</p><p class=\"TitleBlock__CardInfoItem-sc-1avkvav-9 iLMdur\" data-testid=\"baths\">2 Bath</p><p class=\"TitleBlock__CardInfoItem-sc-1avkvav-9 iLMdur\" data-testid=\"floor-area\">286 m²</p><p class=\"TitleBlock__CardInfoItem-sc-1avkvav-9 cKZZql\" data-testid=\"property-type\">Detached</p><div class=\"TitleBlock__BerContainer-sc-1avkvav-11 iXTpuT\"><img alt=\"\" class=\"TitleBlock__Ber-sc-1avkvav-7 iDkita\" data-testid=\"ber-image\" src=\"https://hermes.daft.ie/dsch-daft-frontend/1.0.1670857707/static/images/fallbacks/BerPlaceholder.png\"/></div></div><div class=\"TitleBlock__CardExtraInfo-sc-1avkvav-3 iZAQwx\" data-testid=\"callout-container\"><span class=\"TitleBlock__AgentNameTextWrapper-sc-1avkvav-2 izFGQg\" data-testid=\"agent-name\">Gallagher Quigley</span></div></div></div>,\n",
       " <div class=\"Cardstyled__TitleBlockWrapper-nngi4q-4 eMeJos\"><div data-testid=\"title-block\"><div class=\"TitleBlock__Price-sc-1avkvav-4 hiFkJc\" data-testid=\"price\"><span class=\"TitleBlock__StyledSpan-sc-1avkvav-5 fKAzIL\">€348,000<!-- --> </span></div><p class=\"TitleBlock__Address-sc-1avkvav-8 dzihyY\" data-testid=\"address\">59 Esker Park, Lucan, Co. Dublin</p><div class=\"TitleBlock__CardInfo-sc-1avkvav-10 iCjViR\" data-testid=\"card-info\"><p class=\"TitleBlock__CardInfoItem-sc-1avkvav-9 iLMdur\" data-testid=\"beds\">4 Bed</p><p class=\"TitleBlock__CardInfoItem-sc-1avkvav-9 iLMdur\" data-testid=\"baths\">1 Bath</p><p class=\"TitleBlock__CardInfoItem-sc-1avkvav-9 iLMdur\" data-testid=\"floor-area\">97 m²</p><p class=\"TitleBlock__CardInfoItem-sc-1avkvav-9 cKZZql\" data-testid=\"property-type\">Semi-D</p><div class=\"TitleBlock__BerContainer-sc-1avkvav-11 iXTpuT\"><img alt=\"\" class=\"TitleBlock__Ber-sc-1avkvav-7 iDkita\" data-testid=\"ber-image\" src=\"https://hermes.daft.ie/dsch-daft-frontend/1.0.1670857707/static/images/fallbacks/BerPlaceholder.png\"/></div></div><div class=\"TitleBlock__CardExtraInfo-sc-1avkvav-3 iZAQwx\" data-testid=\"callout-container\"><span class=\"TitleBlock__AgentNameTextWrapper-sc-1avkvav-2 izFGQg\" data-testid=\"agent-name\">REA McDonald</span></div></div></div>,\n",
       " <div class=\"Cardstyled__TitleBlockWrapper-nngi4q-4 eMeJos\"><div data-testid=\"title-block\"><div class=\"TitleBlock__Price-sc-1avkvav-4 hiFkJc\" data-testid=\"price\"><span class=\"TitleBlock__StyledSpan-sc-1avkvav-5 fKAzIL\">€495,000<!-- --> </span></div><p class=\"TitleBlock__Address-sc-1avkvav-8 dzihyY\" data-testid=\"address\">14 Parkside Mews, Balgriffin, Dublin 13</p><div class=\"TitleBlock__CardInfo-sc-1avkvav-10 iCjViR\" data-testid=\"card-info\"><p class=\"TitleBlock__CardInfoItem-sc-1avkvav-9 iLMdur\" data-testid=\"beds\">4 Bed</p><p class=\"TitleBlock__CardInfoItem-sc-1avkvav-9 iLMdur\" data-testid=\"baths\">3 Bath</p><p class=\"TitleBlock__CardInfoItem-sc-1avkvav-9 iLMdur\" data-testid=\"floor-area\">136 m²</p><p class=\"TitleBlock__CardInfoItem-sc-1avkvav-9 cKZZql\" data-testid=\"property-type\">Terrace</p><div class=\"TitleBlock__BerContainer-sc-1avkvav-11 gcZgkQ\"><img alt=\"\" class=\"TitleBlock__Ber-sc-1avkvav-7 iDkita\" data-testid=\"ber-image\" src=\"https://hermes.daft.ie/dsch-daft-frontend/1.0.1670857707/static/images/fallbacks/BerPlaceholder.png\"/></div></div><div class=\"TitleBlock__CardExtraInfo-sc-1avkvav-3 iZAQwx\" data-testid=\"callout-container\"><span class=\"TitleBlock__AgentNameTextWrapper-sc-1avkvav-2 cFBauB\" data-testid=\"agent-name\">Auctioneera.ie</span></div></div></div>,\n",
       " <div class=\"Cardstyled__TitleBlockWrapper-nngi4q-4 eMeJos\"><div data-testid=\"title-block\"><div class=\"TitleBlock__Price-sc-1avkvav-4 hiFkJc\" data-testid=\"price\"><span class=\"TitleBlock__StyledSpan-sc-1avkvav-5 fKAzIL\">€4,950,000<!-- --> </span></div><p class=\"TitleBlock__Address-sc-1avkvav-8 dzihyY\" data-testid=\"address\">Brackenlea, Old Carrickbrack Road, Howth, Dublin 13</p><div class=\"TitleBlock__CardInfo-sc-1avkvav-10 iCjViR\" data-testid=\"card-info\"><p class=\"TitleBlock__CardInfoItem-sc-1avkvav-9 iLMdur\" data-testid=\"beds\">5 Bed</p><p class=\"TitleBlock__CardInfoItem-sc-1avkvav-9 iLMdur\" data-testid=\"baths\">4 Bath</p><p class=\"TitleBlock__CardInfoItem-sc-1avkvav-9 iLMdur\" data-testid=\"floor-area\">355 m²</p><p class=\"TitleBlock__CardInfoItem-sc-1avkvav-9 cKZZql\" data-testid=\"property-type\">Detached</p><div class=\"TitleBlock__BerContainer-sc-1avkvav-11 gcZgkQ\"><img alt=\"\" class=\"TitleBlock__Ber-sc-1avkvav-7 iDkita\" data-testid=\"ber-image\" src=\"https://hermes.daft.ie/dsch-daft-frontend/1.0.1670857707/static/images/fallbacks/BerPlaceholder.png\"/></div></div><div class=\"TitleBlock__CardExtraInfo-sc-1avkvav-3 iZAQwx\" data-testid=\"callout-container\"><span class=\"TitleBlock__AgentNameTextWrapper-sc-1avkvav-2 cFBauB\" data-testid=\"agent-name\">Gallagher Quigley</span></div></div></div>,\n",
       " <div class=\"Cardstyled__TitleBlockWrapper-nngi4q-4 eMeJos\"><div data-testid=\"title-block\"><div class=\"TitleBlock__Price-sc-1avkvav-4 hiFkJc\" data-testid=\"price\"><span class=\"TitleBlock__StyledSpan-sc-1avkvav-5 fKAzIL\">€300,000<!-- --> </span></div><p class=\"TitleBlock__Address-sc-1avkvav-8 dzihyY\" data-testid=\"address\">Apartment 230 Block H , The Island, Martin's Row, Chapelizod, Dublin 20</p><div class=\"TitleBlock__CardInfo-sc-1avkvav-10 iCjViR\" data-testid=\"card-info\"><p class=\"TitleBlock__CardInfoItem-sc-1avkvav-9 iLMdur\" data-testid=\"beds\">2 Bed</p><p class=\"TitleBlock__CardInfoItem-sc-1avkvav-9 iLMdur\" data-testid=\"baths\">1 Bath</p><p class=\"TitleBlock__CardInfoItem-sc-1avkvav-9 iLMdur\" data-testid=\"floor-area\">53 m²</p><p class=\"TitleBlock__CardInfoItem-sc-1avkvav-9 cKZZql\" data-testid=\"property-type\">Apartment</p><div class=\"TitleBlock__BerContainer-sc-1avkvav-11 gcZgkQ\"><img alt=\"\" class=\"TitleBlock__Ber-sc-1avkvav-7 iDkita\" data-testid=\"ber-image\" src=\"https://hermes.daft.ie/dsch-daft-frontend/1.0.1670857707/static/images/fallbacks/BerPlaceholder.png\"/></div></div><div class=\"TitleBlock__CardExtraInfo-sc-1avkvav-3 iZAQwx\" data-testid=\"callout-container\"><span class=\"TitleBlock__AgentNameTextWrapper-sc-1avkvav-2 cFBauB\" data-testid=\"agent-name\">Auctioneera.ie</span></div></div></div>,\n",
       " <div class=\"Cardstyled__TitleBlockWrapper-nngi4q-4 eMeJos\"><div data-testid=\"title-block\"><div class=\"TitleBlock__Price-sc-1avkvav-4 hiFkJc\" data-testid=\"price\"><span class=\"TitleBlock__StyledSpan-sc-1avkvav-5 fKAzIL\">€310,000<!-- --> </span></div><p class=\"TitleBlock__Address-sc-1avkvav-8 dzihyY\" data-testid=\"address\">34 The Pine, The Wintergarden, Pearse Street, Dublin 2</p><div class=\"TitleBlock__CardInfo-sc-1avkvav-10 iCjViR\" data-testid=\"card-info\"><p class=\"TitleBlock__CardInfoItem-sc-1avkvav-9 iLMdur\" data-testid=\"beds\">1 Bed</p><p class=\"TitleBlock__CardInfoItem-sc-1avkvav-9 iLMdur\" data-testid=\"baths\">1 Bath</p><p class=\"TitleBlock__CardInfoItem-sc-1avkvav-9 iLMdur\" data-testid=\"floor-area\">45 m²</p><p class=\"TitleBlock__CardInfoItem-sc-1avkvav-9 cKZZql\" data-testid=\"property-type\">Apartment</p><div class=\"TitleBlock__BerContainer-sc-1avkvav-11 gcZgkQ\"><img alt=\"\" class=\"TitleBlock__Ber-sc-1avkvav-7 iDkita\" data-testid=\"ber-image\" src=\"https://hermes.daft.ie/dsch-daft-frontend/1.0.1670857707/static/images/fallbacks/BerPlaceholder.png\"/></div></div><div class=\"TitleBlock__CardExtraInfo-sc-1avkvav-3 iZAQwx\" data-testid=\"callout-container\"><span class=\"TitleBlock__AgentNameTextWrapper-sc-1avkvav-2 cFBauB\" data-testid=\"agent-name\">Quillsen Terenure</span></div></div></div>]"
      ]
     },
     "execution_count": 13,
     "metadata": {},
     "output_type": "execute_result"
    }
   ],
   "source": [
    "# get the div which contains the information for each listing \n",
    "# content_card = doc.find_all(\".Cardstyled__TitleBlockWrapper-nngi4q-4.eMeJos\")\n",
    "\n",
    "content_card = doc.find_all(attrs={\"class\": [\"Cardstyled__TitleBlockWrapper-nngi4q-4\",\"eMeJos\"]})\n",
    "\n",
    "content_card"
   ]
  },
  {
   "cell_type": "code",
   "execution_count": 14,
   "metadata": {},
   "outputs": [],
   "source": [
    "# all_data"
   ]
  },
  {
   "cell_type": "code",
   "execution_count": 15,
   "metadata": {},
   "outputs": [
    {
     "name": "stdout",
     "output_type": "stream",
     "text": [
      "Next page\n",
      "Next page\n",
      "Next page\n",
      "Next page\n",
      "Next page\n",
      "Next page\n",
      "Next page\n",
      "Next page\n",
      "Next page\n",
      "Next page\n",
      "Next page\n",
      "Next page\n",
      "Next page\n"
     ]
    },
    {
     "ename": "CancelledError",
     "evalue": "",
     "output_type": "error",
     "traceback": [
      "\u001b[0;31m---------------------------------------------------------------------------\u001b[0m",
      "\u001b[0;31mCancelledError\u001b[0m                            Traceback (most recent call last)",
      "\u001b[0;32m<ipython-input-15-10fc41151784>\u001b[0m in \u001b[0;36m<module>\u001b[0;34m\u001b[0m\n\u001b[1;32m     32\u001b[0m         \u001b[0mprint\u001b[0m\u001b[0;34m(\u001b[0m\u001b[0;34m\"Next page\"\u001b[0m\u001b[0;34m)\u001b[0m\u001b[0;34m\u001b[0m\u001b[0;34m\u001b[0m\u001b[0m\n\u001b[1;32m     33\u001b[0m         \u001b[0;32masync\u001b[0m \u001b[0;32mwith\u001b[0m \u001b[0mpage\u001b[0m\u001b[0;34m.\u001b[0m\u001b[0mexpect_navigation\u001b[0m\u001b[0;34m(\u001b[0m\u001b[0;34m)\u001b[0m\u001b[0;34m:\u001b[0m\u001b[0;34m\u001b[0m\u001b[0;34m\u001b[0m\u001b[0m\n\u001b[0;32m---> 34\u001b[0;31m             \u001b[0;32mawait\u001b[0m \u001b[0mpage\u001b[0m\u001b[0;34m.\u001b[0m\u001b[0mget_by_text\u001b[0m\u001b[0;34m(\u001b[0m\u001b[0;34m\"Next >\"\u001b[0m\u001b[0;34m)\u001b[0m\u001b[0;34m.\u001b[0m\u001b[0mclick\u001b[0m\u001b[0;34m(\u001b[0m\u001b[0;34m)\u001b[0m\u001b[0;34m\u001b[0m\u001b[0;34m\u001b[0m\u001b[0m\n\u001b[0m\u001b[1;32m     35\u001b[0m \u001b[0;34m\u001b[0m\u001b[0m\n\u001b[1;32m     36\u001b[0m     \u001b[0;32mexcept\u001b[0m \u001b[0mException\u001b[0m \u001b[0;32mas\u001b[0m \u001b[0me\u001b[0m\u001b[0;34m:\u001b[0m\u001b[0;34m\u001b[0m\u001b[0;34m\u001b[0m\u001b[0m\n",
      "\u001b[0;32m/opt/anaconda3/lib/python3.8/site-packages/playwright/_impl/_async_base.py\u001b[0m in \u001b[0;36m__aexit__\u001b[0;34m(self, exc_type, exc_val, exc_tb)\u001b[0m\n\u001b[1;32m     51\u001b[0m         \u001b[0mexc_tb\u001b[0m\u001b[0;34m:\u001b[0m \u001b[0mTracebackType\u001b[0m\u001b[0;34m,\u001b[0m\u001b[0;34m\u001b[0m\u001b[0;34m\u001b[0m\u001b[0m\n\u001b[1;32m     52\u001b[0m     ) -> None:\n\u001b[0;32m---> 53\u001b[0;31m         \u001b[0;32mawait\u001b[0m \u001b[0mself\u001b[0m\u001b[0;34m.\u001b[0m\u001b[0m_event\u001b[0m\u001b[0;34m.\u001b[0m\u001b[0mvalue\u001b[0m\u001b[0;34m\u001b[0m\u001b[0;34m\u001b[0m\u001b[0m\n\u001b[0m\u001b[1;32m     54\u001b[0m \u001b[0;34m\u001b[0m\u001b[0m\n\u001b[1;32m     55\u001b[0m \u001b[0;34m\u001b[0m\u001b[0m\n",
      "\u001b[0;32m/opt/anaconda3/lib/python3.8/site-packages/playwright/_impl/_async_base.py\u001b[0m in \u001b[0;36mvalue\u001b[0;34m(self)\u001b[0m\n\u001b[1;32m     32\u001b[0m     \u001b[0;34m@\u001b[0m\u001b[0mproperty\u001b[0m\u001b[0;34m\u001b[0m\u001b[0;34m\u001b[0m\u001b[0m\n\u001b[1;32m     33\u001b[0m     \u001b[0;32masync\u001b[0m \u001b[0;32mdef\u001b[0m \u001b[0mvalue\u001b[0m\u001b[0;34m(\u001b[0m\u001b[0mself\u001b[0m\u001b[0;34m)\u001b[0m \u001b[0;34m->\u001b[0m \u001b[0mT\u001b[0m\u001b[0;34m:\u001b[0m\u001b[0;34m\u001b[0m\u001b[0;34m\u001b[0m\u001b[0m\n\u001b[0;32m---> 34\u001b[0;31m         \u001b[0;32mreturn\u001b[0m \u001b[0mmapping\u001b[0m\u001b[0;34m.\u001b[0m\u001b[0mfrom_maybe_impl\u001b[0m\u001b[0;34m(\u001b[0m\u001b[0;32mawait\u001b[0m \u001b[0mself\u001b[0m\u001b[0;34m.\u001b[0m\u001b[0m_future\u001b[0m\u001b[0;34m)\u001b[0m\u001b[0;34m\u001b[0m\u001b[0;34m\u001b[0m\u001b[0m\n\u001b[0m\u001b[1;32m     35\u001b[0m \u001b[0;34m\u001b[0m\u001b[0m\n\u001b[1;32m     36\u001b[0m     \u001b[0;32mdef\u001b[0m \u001b[0mis_done\u001b[0m\u001b[0;34m(\u001b[0m\u001b[0mself\u001b[0m\u001b[0;34m)\u001b[0m \u001b[0;34m->\u001b[0m \u001b[0mbool\u001b[0m\u001b[0;34m:\u001b[0m\u001b[0;34m\u001b[0m\u001b[0;34m\u001b[0m\u001b[0m\n",
      "\u001b[0;31mCancelledError\u001b[0m: "
     ]
    }
   ],
   "source": [
    "# this cell: \n",
    "    # goes through every page on the website\n",
    "    # gets the relevant information from each card and dds it to aa dictionary called listing\n",
    "    # each listing is added to the list all_data \n",
    "    # it DOES NOT add the listings that are under the \"ad\" format --> need to fix this? this means we are missing approx 550 listings ... \n",
    "    \n",
    "all_data = []\n",
    "\n",
    "while True:\n",
    "    \n",
    "    try:\n",
    "        html = await page.content()\n",
    "\n",
    "        doc = BeautifulSoup(html)\n",
    "\n",
    "        # content card returns a list with the block of information for each listing \n",
    "        content_card = doc.find_all(attrs={\"class\": [\"Cardstyled__TitleBlockWrapper-nngi4q-4\",\"eMeJos\"]})\n",
    "\n",
    "        # go through each of these to get the listing properties\n",
    "        for card in content_card:\n",
    "            try:\n",
    "                listing = {}\n",
    "                listing[\"price\"] = card.find(attrs={\"class\": [\"TitleBlock__StyledSpan-sc-1avkvav-5\",\"fKAzIL\"]}).string\n",
    "                listing[\"address\"] = card.find(attrs={\"class\": [\"TitleBlock__Address-sc-1avkvav-8\", \"dzihyY\"]}).string\n",
    "                listing[\"bedrooms\"] = card.find(attrs={\"class\": [\"TitleBlock__CardInfoItem-sc-1avkvav-9\", \"iLMdur\"], \"data-testid\": \"beds\"}).string\n",
    "                listing[\"bathrooms\"] = card.find(attrs={\"class\": [\"TitleBlock__CardInfoItem-sc-1avkvav-9\", \"iLMdur\"], \"data-testid\": \"baths\"}).string\n",
    "                listing[\"floor_area\"] = card.find(attrs={\"class\": [\"TitleBlock__CardInfoItem-sc-1avkvav-9\", \"iLMdur\"], \"data-testid\": \"floor-area\"}).text\n",
    "                all_data.append(listing)\n",
    "            except:\n",
    "                pass\n",
    "\n",
    "        print(\"Next page\")\n",
    "        async with page.expect_navigation():\n",
    "            await page.get_by_text(\"Next >\").click()\n",
    "                           \n",
    "    except Exception as e: \n",
    "        \n",
    "        raise e\n",
    "        print(\"Could not click the 'next' button\")\n",
    "        break\n",
    "    \n",
    "print(\"Done\")"
   ]
  },
  {
   "cell_type": "code",
   "execution_count": null,
   "metadata": {
    "scrolled": false
   },
   "outputs": [],
   "source": [
    "# check check\n",
    "\n",
    "# see how many listings I have \n",
    "\n",
    "print(len(all_data))\n",
    "\n",
    "# await browser.close()"
   ]
  },
  {
   "cell_type": "code",
   "execution_count": null,
   "metadata": {},
   "outputs": [],
   "source": [
    "import pandas as pd\n",
    "from datetime import date\n",
    "\n",
    "today = date.today()\n",
    "year = today.year\n",
    "month = today.month\n",
    "day = today.day\n",
    "\n",
    "if day < 9:\n",
    "    day = \"0\" + str(day) \n",
    "    \n",
    "df = pd.DataFrame.from_dict(all_data)\n",
    "\n",
    "df.to_csv(f\"./scrape_output/daft_listings_{year}{month}{day}.csv\")"
   ]
  },
  {
   "cell_type": "code",
   "execution_count": null,
   "metadata": {},
   "outputs": [],
   "source": [
    "# add missing price values for the first few cells manually "
   ]
  },
  {
   "cell_type": "code",
   "execution_count": null,
   "metadata": {},
   "outputs": [],
   "source": [
    "# await browser.close()"
   ]
  },
  {
   "cell_type": "code",
   "execution_count": null,
   "metadata": {},
   "outputs": [],
   "source": [
    "df.tail()\n"
   ]
  },
  {
   "cell_type": "code",
   "execution_count": null,
   "metadata": {},
   "outputs": [],
   "source": []
  }
 ],
 "metadata": {
  "kernelspec": {
   "display_name": "Python 3",
   "language": "python",
   "name": "python3"
  },
  "language_info": {
   "codemirror_mode": {
    "name": "ipython",
    "version": 3
   },
   "file_extension": ".py",
   "mimetype": "text/x-python",
   "name": "python",
   "nbconvert_exporter": "python",
   "pygments_lexer": "ipython3",
   "version": "3.8.3"
  }
 },
 "nbformat": 4,
 "nbformat_minor": 4
}
